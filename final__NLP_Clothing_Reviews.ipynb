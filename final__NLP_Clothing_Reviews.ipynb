{
 "cells": [
  {
   "cell_type": "markdown",
   "metadata": {},
   "source": [
    "# NLP Project with Women's E-Commerce Clothing Reviews"
   ]
  },
  {
   "cell_type": "markdown",
   "metadata": {},
   "source": [
    "# Getting started <a class=\"anchor\" id=\"getting_started\"></a>"
   ]
  },
  {
   "cell_type": "markdown",
   "metadata": {},
   "source": [
    "The objective of this analysis is to understand what customers like and dislike about the clothing products, mainly by using natural language processing (NLP) to disaggregate their product reviews. Age of the reviewer is also explored for predictive value of product recommendation. The analysis also aims to uncover topics of reviews for those that recommend and don't recommend the product (topic modeling). The bottom of the analysis includes a binary classification model that predicts whether the reviewer recommends the product based on what they wrote in their review.\n",
    "\n",
    "What other natural language processing techniques could be employed on the product reviews to understand what customers think about the products? How would you approach the analysis objective? I'd love to hear other people's thoughts.\n",
    "\n",
    "-Mason"
   ]
  },
  {
   "cell_type": "code",
   "execution_count": 1,
   "metadata": {
    "ExecuteTime": {
     "end_time": "2021-10-08T20:38:48.396557Z",
     "start_time": "2021-10-08T20:38:48.393318Z"
    }
   },
   "outputs": [],
   "source": [
    "# Measure how long it takes to run the notebook\n",
    "from datetime import datetime, timedelta\n",
    "\n",
    "start = datetime.now()\n",
    "print('Start time:', start)"
   ]
  },
  {
   "cell_type": "code",
   "execution_count": 2,
   "metadata": {
    "ExecuteTime": {
     "end_time": "2021-10-08T20:38:50.596674Z",
     "start_time": "2021-10-08T20:38:48.398721Z"
    }
   },
   "outputs": [],
   "source": [
    "# Working with dataframes and arrays\n",
    "import pandas as pd\n",
    "import numpy as np\n",
    "import math\n",
    "\n",
    "# Ploting\n",
    "import seaborn as sns\n",
    "import matplotlib.pyplot as plt\n",
    "\n",
    "# NLP\n",
    "import nltk\n",
    "from nltk import word_tokenize, pos_tag\n",
    "from nltk.stem import WordNetLemmatizer\n",
    "from nltk.corpus import stopwords\n",
    "from nltk.sentiment.vader import SentimentIntensityAnalyzer\n",
    "import re\n",
    "from sklearn.feature_extraction.text import TfidfVectorizer, CountVectorizer\n",
    "from sklearn.metrics.pairwise import cosine_similarity\n",
    "import gensim\n",
    "from gensim import corpora\n",
    "\n",
    "# Modeling\n",
    "from statsmodels.stats.outliers_influence import variance_inflation_factor\n",
    "from mlxtend.preprocessing import DenseTransformer\n",
    "from sklearn.linear_model import LogisticRegression\n",
    "from sklearn.tree import DecisionTreeClassifier\n",
    "from sklearn.naive_bayes import ComplementNB\n",
    "from sklearn.model_selection import train_test_split\n",
    "from sklearn.metrics import classification_report\n",
    "from sklearn.metrics import accuracy_score, f1_score\n",
    "\n",
    "# Cleaner notebook\n",
    "import warnings \n",
    "warnings.filterwarnings(\"ignore\")\n",
    "\n",
    "# Notebook settings\n",
    "stop_words = set(stopwords.words('english'))\n",
    "pd.set_option('display.max_rows', None)\n",
    "pd.set_option('display.max_columns', None)\n",
    "pd.set_option('display.max_colwidth', None)"
   ]
  },
  {
   "cell_type": "code",
   "execution_count": 3,
   "metadata": {
    "ExecuteTime": {
     "end_time": "2021-10-08T20:38:50.600720Z",
     "start_time": "2021-10-08T20:38:50.598982Z"
    }
   },
   "outputs": [],
   "source": [
    "# Link to dataset\n",
    "# https://www.kaggle.com/nicapotato/womens-ecommerce-clothing-reviews"
   ]
  },
  {
   "cell_type": "code",
   "execution_count": 4,
   "metadata": {
    "ExecuteTime": {
     "end_time": "2021-10-08T20:38:50.605143Z",
     "start_time": "2021-10-08T20:38:50.603099Z"
    }
   },
   "outputs": [],
   "source": [
    "# Description of fields:\n",
    "\n",
    "# Clothing ID: Integer Categorical variable that refers to the specific piece being reviewed.\n",
    "# Age: Positive Integer variable of the reviewers age.\n",
    "# Title: String variable for the title of the review.\n",
    "# Review Text: String variable for the review body.\n",
    "# Rating: Positive Ordinal Integer variable for the product score granted by the customer from 1 Worst, to 5 Best.\n",
    "# Recommended IND: Binary variable stating where the customer recommends the product where 1 is recommended, 0 is not recommended.\n",
    "# Positive Feedback Count: Positive Integer documenting the number of other customers who found this review positive.\n",
    "# Division Name: Categorical name of the product high level division.\n",
    "# Department Name: Categorical name of the product department name.\n",
    "# Class Name: Categorical name of the product class name."
   ]
  },
  {
   "cell_type": "code",
   "execution_count": 5,
   "metadata": {
    "ExecuteTime": {
     "end_time": "2021-10-08T20:38:50.720254Z",
     "start_time": "2021-10-08T20:38:50.607276Z"
    },
    "scrolled": true
   },
   "outputs": [
    {
     "name": "stdout",
     "output_type": "stream",
     "text": [
      "(23486, 11)\n",
      "Index(['Unnamed: 0', 'Clothing ID', 'Age', 'Title', 'Review Text', 'Rating',\n",
      "       'Recommended IND', 'Positive Feedback Count', 'Division Name',\n",
      "       'Department Name', 'Class Name'],\n",
      "      dtype='object')\n"
     ]
    },
    {
     "data": {
      "text/html": [
       "<div>\n",
       "<style scoped>\n",
       "    .dataframe tbody tr th:only-of-type {\n",
       "        vertical-align: middle;\n",
       "    }\n",
       "\n",
       "    .dataframe tbody tr th {\n",
       "        vertical-align: top;\n",
       "    }\n",
       "\n",
       "    .dataframe thead th {\n",
       "        text-align: right;\n",
       "    }\n",
       "</style>\n",
       "<table border=\"1\" class=\"dataframe\">\n",
       "  <thead>\n",
       "    <tr style=\"text-align: right;\">\n",
       "      <th></th>\n",
       "      <th>Unnamed: 0</th>\n",
       "      <th>Clothing ID</th>\n",
       "      <th>Age</th>\n",
       "      <th>Title</th>\n",
       "      <th>Review Text</th>\n",
       "      <th>Rating</th>\n",
       "      <th>Recommended IND</th>\n",
       "      <th>Positive Feedback Count</th>\n",
       "      <th>Division Name</th>\n",
       "      <th>Department Name</th>\n",
       "      <th>Class Name</th>\n",
       "    </tr>\n",
       "  </thead>\n",
       "  <tbody>\n",
       "    <tr>\n",
       "      <th>0</th>\n",
       "      <td>0</td>\n",
       "      <td>767</td>\n",
       "      <td>33</td>\n",
       "      <td>NaN</td>\n",
       "      <td>Absolutely wonderful - silky and sexy and comfortable</td>\n",
       "      <td>4</td>\n",
       "      <td>1</td>\n",
       "      <td>0</td>\n",
       "      <td>Initmates</td>\n",
       "      <td>Intimate</td>\n",
       "      <td>Intimates</td>\n",
       "    </tr>\n",
       "    <tr>\n",
       "      <th>1</th>\n",
       "      <td>1</td>\n",
       "      <td>1080</td>\n",
       "      <td>34</td>\n",
       "      <td>NaN</td>\n",
       "      <td>Love this dress!  it's sooo pretty.  i happened to find it in a store, and i'm glad i did bc i never would have ordered it online bc it's petite.  i bought a petite and am 5'8\".  i love the length on me- hits just a little below the knee.  would definitely be a true midi on someone who is truly petite.</td>\n",
       "      <td>5</td>\n",
       "      <td>1</td>\n",
       "      <td>4</td>\n",
       "      <td>General</td>\n",
       "      <td>Dresses</td>\n",
       "      <td>Dresses</td>\n",
       "    </tr>\n",
       "    <tr>\n",
       "      <th>2</th>\n",
       "      <td>2</td>\n",
       "      <td>1077</td>\n",
       "      <td>60</td>\n",
       "      <td>Some major design flaws</td>\n",
       "      <td>I had such high hopes for this dress and really wanted it to work for me. i initially ordered the petite small (my usual size) but i found this to be outrageously small. so small in fact that i could not zip it up! i reordered it in petite medium, which was just ok. overall, the top half was comfortable and fit nicely, but the bottom half had a very tight under layer and several somewhat cheap (net) over layers. imo, a major design flaw was the net over layer sewn directly into the zipper - it c</td>\n",
       "      <td>3</td>\n",
       "      <td>0</td>\n",
       "      <td>0</td>\n",
       "      <td>General</td>\n",
       "      <td>Dresses</td>\n",
       "      <td>Dresses</td>\n",
       "    </tr>\n",
       "    <tr>\n",
       "      <th>3</th>\n",
       "      <td>3</td>\n",
       "      <td>1049</td>\n",
       "      <td>50</td>\n",
       "      <td>My favorite buy!</td>\n",
       "      <td>I love, love, love this jumpsuit. it's fun, flirty, and fabulous! every time i wear it, i get nothing but great compliments!</td>\n",
       "      <td>5</td>\n",
       "      <td>1</td>\n",
       "      <td>0</td>\n",
       "      <td>General Petite</td>\n",
       "      <td>Bottoms</td>\n",
       "      <td>Pants</td>\n",
       "    </tr>\n",
       "    <tr>\n",
       "      <th>4</th>\n",
       "      <td>4</td>\n",
       "      <td>847</td>\n",
       "      <td>47</td>\n",
       "      <td>Flattering shirt</td>\n",
       "      <td>This shirt is very flattering to all due to the adjustable front tie. it is the perfect length to wear with leggings and it is sleeveless so it pairs well with any cardigan. love this shirt!!!</td>\n",
       "      <td>5</td>\n",
       "      <td>1</td>\n",
       "      <td>6</td>\n",
       "      <td>General</td>\n",
       "      <td>Tops</td>\n",
       "      <td>Blouses</td>\n",
       "    </tr>\n",
       "  </tbody>\n",
       "</table>\n",
       "</div>"
      ],
      "text/plain": [
       "   Unnamed: 0  Clothing ID  Age                    Title  \\\n",
       "0           0          767   33                      NaN   \n",
       "1           1         1080   34                      NaN   \n",
       "2           2         1077   60  Some major design flaws   \n",
       "3           3         1049   50         My favorite buy!   \n",
       "4           4          847   47         Flattering shirt   \n",
       "\n",
       "                                                                                                                                                                                                                                                                                                                                                                                                                                                                                                            Review Text  \\\n",
       "0                                                                                                                                                                                                                                                                                                                                                                                                                                                                 Absolutely wonderful - silky and sexy and comfortable   \n",
       "1                                                                                                                                                                                                       Love this dress!  it's sooo pretty.  i happened to find it in a store, and i'm glad i did bc i never would have ordered it online bc it's petite.  i bought a petite and am 5'8\".  i love the length on me- hits just a little below the knee.  would definitely be a true midi on someone who is truly petite.   \n",
       "2  I had such high hopes for this dress and really wanted it to work for me. i initially ordered the petite small (my usual size) but i found this to be outrageously small. so small in fact that i could not zip it up! i reordered it in petite medium, which was just ok. overall, the top half was comfortable and fit nicely, but the bottom half had a very tight under layer and several somewhat cheap (net) over layers. imo, a major design flaw was the net over layer sewn directly into the zipper - it c   \n",
       "3                                                                                                                                                                                                                                                                                                                                                                                          I love, love, love this jumpsuit. it's fun, flirty, and fabulous! every time i wear it, i get nothing but great compliments!   \n",
       "4                                                                                                                                                                                                                                                                                                                      This shirt is very flattering to all due to the adjustable front tie. it is the perfect length to wear with leggings and it is sleeveless so it pairs well with any cardigan. love this shirt!!!   \n",
       "\n",
       "   Rating  Recommended IND  Positive Feedback Count   Division Name  \\\n",
       "0       4                1                        0       Initmates   \n",
       "1       5                1                        4         General   \n",
       "2       3                0                        0         General   \n",
       "3       5                1                        0  General Petite   \n",
       "4       5                1                        6         General   \n",
       "\n",
       "  Department Name Class Name  \n",
       "0        Intimate  Intimates  \n",
       "1         Dresses    Dresses  \n",
       "2         Dresses    Dresses  \n",
       "3         Bottoms      Pants  \n",
       "4            Tops    Blouses  "
      ]
     },
     "execution_count": 5,
     "metadata": {},
     "output_type": "execute_result"
    }
   ],
   "source": [
    "# Read and preview data\n",
    "df = pd.read_csv('Womens Clothing E-Commerce Reviews.csv')\n",
    "print(df.shape)\n",
    "print(df.columns)\n",
    "df.head()"
   ]
  },
  {
   "cell_type": "markdown",
   "metadata": {},
   "source": [
    "# Data preprocessing"
   ]
  },
  {
   "cell_type": "code",
   "execution_count": 6,
   "metadata": {
    "ExecuteTime": {
     "end_time": "2021-10-08T20:38:50.727307Z",
     "start_time": "2021-10-08T20:38:50.722213Z"
    }
   },
   "outputs": [],
   "source": [
    "# Remove the column: 'Unnamed: 0'\n",
    "df.drop('Unnamed: 0', axis=1, inplace=True)"
   ]
  },
  {
   "cell_type": "code",
   "execution_count": 7,
   "metadata": {
    "ExecuteTime": {
     "end_time": "2021-10-08T20:38:50.740440Z",
     "start_time": "2021-10-08T20:38:50.729186Z"
    },
    "scrolled": true
   },
   "outputs": [
    {
     "data": {
      "text/plain": [
       "Clothing ID                   0\n",
       "Age                           0\n",
       "Title                      3810\n",
       "Review Text                 845\n",
       "Rating                        0\n",
       "Recommended IND               0\n",
       "Positive Feedback Count       0\n",
       "Division Name                14\n",
       "Department Name              14\n",
       "Class Name                   14\n",
       "dtype: int64"
      ]
     },
     "execution_count": 7,
     "metadata": {},
     "output_type": "execute_result"
    }
   ],
   "source": [
    "# Count the number of nulls in each column\n",
    "df.isna().sum()"
   ]
  },
  {
   "cell_type": "code",
   "execution_count": 8,
   "metadata": {
    "ExecuteTime": {
     "end_time": "2021-10-08T20:38:50.780530Z",
     "start_time": "2021-10-08T20:38:50.744524Z"
    }
   },
   "outputs": [
    {
     "data": {
      "text/plain": [
       "Clothing ID                 1206\n",
       "Age                           77\n",
       "Title                      13993\n",
       "Review Text                22634\n",
       "Rating                         5\n",
       "Recommended IND                2\n",
       "Positive Feedback Count       82\n",
       "Division Name                  3\n",
       "Department Name                6\n",
       "Class Name                    20\n",
       "dtype: int64"
      ]
     },
     "execution_count": 8,
     "metadata": {},
     "output_type": "execute_result"
    }
   ],
   "source": [
    "# Count the number of unique values in each column\n",
    "df.nunique()"
   ]
  },
  {
   "cell_type": "code",
   "execution_count": 9,
   "metadata": {
    "ExecuteTime": {
     "end_time": "2021-10-08T20:38:54.993027Z",
     "start_time": "2021-10-08T20:38:50.783214Z"
    },
    "scrolled": true
   },
   "outputs": [
    {
     "data": {
      "text/html": [
       "<div>\n",
       "<style scoped>\n",
       "    .dataframe tbody tr th:only-of-type {\n",
       "        vertical-align: middle;\n",
       "    }\n",
       "\n",
       "    .dataframe tbody tr th {\n",
       "        vertical-align: top;\n",
       "    }\n",
       "\n",
       "    .dataframe thead th {\n",
       "        text-align: right;\n",
       "    }\n",
       "</style>\n",
       "<table border=\"1\" class=\"dataframe\">\n",
       "  <thead>\n",
       "    <tr style=\"text-align: right;\">\n",
       "      <th></th>\n",
       "      <th>Review Text</th>\n",
       "      <th>clean_review_text</th>\n",
       "    </tr>\n",
       "  </thead>\n",
       "  <tbody>\n",
       "    <tr>\n",
       "      <th>0</th>\n",
       "      <td>Absolutely wonderful - silky and sexy and comfortable</td>\n",
       "      <td>absolutely wonderful silky sexy comfortable</td>\n",
       "    </tr>\n",
       "    <tr>\n",
       "      <th>1</th>\n",
       "      <td>Love this dress!  it's sooo pretty.  i happened to find it in a store, and i'm glad i did bc i never would have ordered it online bc it's petite.  i bought a petite and am 5'8\".  i love the length on me- hits just a little below the knee.  would definitely be a true midi on someone who is truly petite.</td>\n",
       "      <td>love dress sooo pretty happened find store glad bc never would ordered online bc petite bought petite love length hit little knee would definitely true midi someone truly petite</td>\n",
       "    </tr>\n",
       "    <tr>\n",
       "      <th>2</th>\n",
       "      <td>I had such high hopes for this dress and really wanted it to work for me. i initially ordered the petite small (my usual size) but i found this to be outrageously small. so small in fact that i could not zip it up! i reordered it in petite medium, which was just ok. overall, the top half was comfortable and fit nicely, but the bottom half had a very tight under layer and several somewhat cheap (net) over layers. imo, a major design flaw was the net over layer sewn directly into the zipper - it c</td>\n",
       "      <td>high hope dress really wanted work initially ordered petite small usual size found outrageously small small fact could zip reordered petite medium ok overall top half comfortable fit nicely bottom half tight layer several somewhat cheap net layer imo major design flaw net layer sewn directly zipper c</td>\n",
       "    </tr>\n",
       "  </tbody>\n",
       "</table>\n",
       "</div>"
      ],
      "text/plain": [
       "                                                                                                                                                                                                                                                                                                                                                                                                                                                                                                            Review Text  \\\n",
       "0                                                                                                                                                                                                                                                                                                                                                                                                                                                                 Absolutely wonderful - silky and sexy and comfortable   \n",
       "1                                                                                                                                                                                                       Love this dress!  it's sooo pretty.  i happened to find it in a store, and i'm glad i did bc i never would have ordered it online bc it's petite.  i bought a petite and am 5'8\".  i love the length on me- hits just a little below the knee.  would definitely be a true midi on someone who is truly petite.   \n",
       "2  I had such high hopes for this dress and really wanted it to work for me. i initially ordered the petite small (my usual size) but i found this to be outrageously small. so small in fact that i could not zip it up! i reordered it in petite medium, which was just ok. overall, the top half was comfortable and fit nicely, but the bottom half had a very tight under layer and several somewhat cheap (net) over layers. imo, a major design flaw was the net over layer sewn directly into the zipper - it c   \n",
       "\n",
       "                                                                                                                                                                                                                                                                                               clean_review_text  \n",
       "0                                                                                                                                                                                                                                                                    absolutely wonderful silky sexy comfortable  \n",
       "1                                                                                                                              love dress sooo pretty happened find store glad bc never would ordered online bc petite bought petite love length hit little knee would definitely true midi someone truly petite  \n",
       "2  high hope dress really wanted work initially ordered petite small usual size found outrageously small small fact could zip reordered petite medium ok overall top half comfortable fit nicely bottom half tight layer several somewhat cheap net layer imo major design flaw net layer sewn directly zipper c  "
      ]
     },
     "execution_count": 9,
     "metadata": {},
     "output_type": "execute_result"
    }
   ],
   "source": [
    "# Clean text data (remove special characters, lowercase, remove stop words, and lemmatize)\n",
    "\n",
    "# I found this function for text preprocessing online. I think it was towardsdatascience.com,\n",
    "# but I can't find/remember where I found it. If I find the site, I'll post the source to give the author credit.\n",
    "\n",
    "def preprocess(raw_text):\n",
    "    letters_only_text = re.sub(\"[^a-zA-Z]\", \" \", raw_text)\n",
    "\n",
    "    words = letters_only_text.lower().split()\n",
    "\n",
    "    cleaned_words = []\n",
    "    lemmatizer = WordNetLemmatizer()\n",
    "\n",
    "    for word in words:\n",
    "        if word not in stop_words:\n",
    "            cleaned_words.append(word)\n",
    "    \n",
    "    lemmas = []\n",
    "    for word in cleaned_words:\n",
    "        word = lemmatizer.lemmatize(word)\n",
    "        lemmas.append(word)\n",
    "    \n",
    "    return \" \".join(lemmas)\n",
    "\n",
    "df['Review Text'] = df['Review Text'].astype(str)\n",
    "df['clean_review_text'] = df['Review Text'].apply(preprocess)\n",
    "\n",
    "# Inspect the cleaned text data\n",
    "df[['Review Text','clean_review_text']].head(3)"
   ]
  },
  {
   "cell_type": "markdown",
   "metadata": {},
   "source": [
    "# Exploratory data analysis"
   ]
  },
  {
   "cell_type": "markdown",
   "metadata": {},
   "source": [
    "## Product polarity\n",
    "Customer's give the product a rating (1 Worst, to 5 Best). We'll use the rating to find if there polarizing products or products overwhelmingly liked or disliked. Filter out products with less than 30 reviews. Net Polarity = (% 4 and 5 star ratings) - (% 1 and 2 star ratings).\n",
    "\n",
    "The higher the net polarity the more universally liked the product is. A net polarity score of 0 means the product is completely polar, and less than 0 is more disliked than liked."
   ]
  },
  {
   "cell_type": "code",
   "execution_count": 10,
   "metadata": {
    "ExecuteTime": {
     "end_time": "2021-10-08T20:38:55.244082Z",
     "start_time": "2021-10-08T20:38:54.994684Z"
    },
    "scrolled": true
   },
   "outputs": [
    {
     "data": {
      "text/plain": [
       "Text(0.5, 1.0, 'Distribution of Product Net Polarity')"
      ]
     },
     "execution_count": 10,
     "metadata": {},
     "output_type": "execute_result"
    },
    {
     "data": {
      "image/png": "[encoded data removed]",
      "text/plain": [
       "<Figure size 432x288 with 1 Axes>"
      ]
     },
     "metadata": {
      "needs_background": "light"
     },
     "output_type": "display_data"
    }
   ],
   "source": [
    "# Count number of reviews for each product by rating\n",
    "df_ratings = df.pivot_table(values='Review Text'\n",
    "                            , index='Clothing ID'\n",
    "                            , columns='Rating'\n",
    "                            , aggfunc='count'\n",
    "                            , margins=True\n",
    "                            , margins_name='Total'\n",
    "                            , fill_value=0)\n",
    "\n",
    "# Use the percent of 1 and 2, and 4 and 5 star reviews to gauge if there are polarizing product\n",
    "df_ratings['percent_5_star'] = (df_ratings[5] + df_ratings[4]) / df_ratings['Total']\n",
    "df_ratings['percent_1_star'] = (df_ratings[1] + df_ratings[2]) / df_ratings['Total']\n",
    "df_ratings['net_polarity'] = df_ratings['percent_5_star'] - df_ratings['percent_1_star']\n",
    "\n",
    "# Filter out products with less than 30 reviews\n",
    "df_ratings = df_ratings[df_ratings['Total'] >= 30]\n",
    "\n",
    "# Distribution of product net polarity\n",
    "sns.histplot(df_ratings['net_polarity'])\n",
    "plt.title('Distribution of Product Net Polarity', fontsize=14)"
   ]
  },
  {
   "cell_type": "markdown",
   "metadata": {},
   "source": [
    "## Ratings\n",
    "Plot the distribution of the ratings by whether the product was recommended.\n",
    "\n",
    "One interesting thing from the plots is that most of the people that did not recommend the product gave it a rating of 3."
   ]
  },
  {
   "cell_type": "code",
   "execution_count": 11,
   "metadata": {
    "ExecuteTime": {
     "end_time": "2021-10-08T20:38:55.661768Z",
     "start_time": "2021-10-08T20:38:55.245853Z"
    },
    "scrolled": true
   },
   "outputs": [
    {
     "data": {
      "image/png": "[encoded data removed]",
      "text/plain": [
       "<Figure size 432x288 with 2 Axes>"
      ]
     },
     "metadata": {
      "needs_background": "light"
     },
     "output_type": "display_data"
    }
   ],
   "source": [
    "# Distribution of star ratings by whehter the reviewer recommends the product\n",
    "recommended = df[df['Recommended IND'] == 1]\n",
    "not_recommended = df[df['Recommended IND'] == 0]\n",
    "\n",
    "plt.subplot(1, 2, 1)\n",
    "sns.histplot(recommended['Rating'], color='green')\n",
    "plt.title('Recommended Product')\n",
    "\n",
    "plt.subplot(1, 2, 2)\n",
    "sns.histplot(not_recommended['Rating'], color='red')\n",
    "plt.title('Not Recommended Product')\n",
    "plt.suptitle('Number of Star Rating by Product Recommendation', fontsize=16, verticalalignment='center', horizontalalignment='center')\n",
    "plt.tight_layout()\n",
    "plt.show()"
   ]
  },
  {
   "cell_type": "markdown",
   "metadata": {},
   "source": [
    "## Number of characters and words in the review\n",
    "There's not a big difference in the number of words and characters a review contains whether they do or don't recommend the product."
   ]
  },
  {
   "cell_type": "code",
   "execution_count": 12,
   "metadata": {
    "ExecuteTime": {
     "end_time": "2021-10-08T20:38:56.205183Z",
     "start_time": "2021-10-08T20:38:55.663567Z"
    }
   },
   "outputs": [
    {
     "data": {
      "image/png": "[encoded data removed]",
      "text/plain": [
       "<Figure size 720x360 with 4 Axes>"
      ]
     },
     "metadata": {
      "needs_background": "light"
     },
     "output_type": "display_data"
    }
   ],
   "source": [
    "# Number of characters in the review by whehter the reviewer recommends the product\n",
    "df['num_characters'] = df['clean_review_text'].apply(len)\n",
    "\n",
    "# Number of words in the review by whehter the reviewer recommends the product\n",
    "df['num_words'] = [len(x.split()) for x in df['clean_review_text'].tolist()]\n",
    "\n",
    "# Separate reviews that recommend and don't recommend the productd\n",
    "recommend = df[df['Recommended IND'] == 1]\n",
    "not_recommend = df[df['Recommended IND'] == 0]\n",
    "\n",
    "# Plot\n",
    "fig, axs = plt.subplots(2, 2, figsize=(10,5))\n",
    "\n",
    "axs[0, 0].hist(recommend['num_characters'], color='green')\n",
    "axs[0, 0].set_title('Recommend Product: Number of characters')\n",
    "\n",
    "axs[0, 1].hist(not_recommend['num_characters'], color='red')\n",
    "axs[0, 1].set_title('Do Not Recommend Product: Number of characters')\n",
    "\n",
    "axs[1, 0].hist(recommend['num_words'], color='green')\n",
    "axs[1, 0].set_title('Recommend Product: Number of words')\n",
    "\n",
    "axs[1, 1].hist(not_recommend['num_words'], color='red')\n",
    "axs[1, 1].set_title('Do Not Recommend Product: Number of words')\n",
    "\n",
    "for ax in axs.flat:\n",
    "    ax.set(xlabel='x-label', ylabel='y-label')\n",
    "\n",
    "plt.suptitle('Distribution of the Number of Charaters \\nand Words in a Review by its Recommendation', fontsize=16, verticalalignment='center', horizontalalignment='center')\n",
    "fig.tight_layout()"
   ]
  },
  {
   "cell_type": "markdown",
   "metadata": {},
   "source": [
    "## Age of reviewer"
   ]
  },
  {
   "cell_type": "markdown",
   "metadata": {},
   "source": [
    "- Is age a good predictor of their rating and recommendation?\n",
    "- What is the average rating for each age group?\n",
    "- Do most of the 1 star ratings come from a specific age group, 2 star, etc.?"
   ]
  },
  {
   "cell_type": "code",
   "execution_count": 13,
   "metadata": {
    "ExecuteTime": {
     "end_time": "2021-10-08T20:38:56.420169Z",
     "start_time": "2021-10-08T20:38:56.206816Z"
    }
   },
   "outputs": [
    {
     "data": {
      "image/png": "[encoded data removed]",
      "text/plain": [
       "<Figure size 360x576 with 1 Axes>"
      ]
     },
     "metadata": {
      "needs_background": "light"
     },
     "output_type": "display_data"
    }
   ],
   "source": [
    "# Distribution of Age by Recommendation\n",
    "# Not a big difference in age between those that recommend and don't recommend the product\n",
    "plt.figure(figsize=(5,8))\n",
    "sns.violinplot(y='Age', x='Recommended IND', hue='Recommended IND', data=df, palette=['red', 'green'])\n",
    "plt.title('Distribution of Age by Recommendation', fontsize=14)\n",
    "plt.show()"
   ]
  },
  {
   "cell_type": "code",
   "execution_count": 14,
   "metadata": {
    "ExecuteTime": {
     "end_time": "2021-10-08T20:38:56.835120Z",
     "start_time": "2021-10-08T20:38:56.421919Z"
    }
   },
   "outputs": [
    {
     "data": {
      "image/png": "[encoded data removed]",
      "text/plain": [
       "<Figure size 1080x360 with 2 Axes>"
      ]
     },
     "metadata": {
      "needs_background": "light"
     },
     "output_type": "display_data"
    }
   ],
   "source": [
    "# Each age group has a similar range of ratings and recommendations given.\n",
    "fig, (ax1, ax2) = plt.subplots(1, 2, figsize=(15,5))\n",
    "n_bins = 10\n",
    "\n",
    "ratings = sorted(list(df.Rating.unique()))\n",
    "x1 = [df[df.Rating == i]['Age'].to_numpy() for i in ratings]\n",
    "ax1.hist(x1, n_bins, histtype='bar')\n",
    "ax1.set_xlabel('Age')\n",
    "ax1.legend(ratings)\n",
    "ax1.set_title('Distribution of Age by Rating', fontsize=12)\n",
    "\n",
    "rec = sorted(list(df['Recommended IND'].unique()))\n",
    "x2 = [df[df['Recommended IND'] == i]['Age'].to_numpy() for i in rec]\n",
    "ax2.hist(x2, n_bins, histtype='bar')\n",
    "ax2.set_xlabel('Age')\n",
    "ax2.legend(rec)\n",
    "ax2.set_title('Distribution of Age by Recommendation', fontsize=12)\n",
    "\n",
    "plt.show()"
   ]
  },
  {
   "cell_type": "code",
   "execution_count": 15,
   "metadata": {
    "ExecuteTime": {
     "end_time": "2021-10-08T20:38:56.853714Z",
     "start_time": "2021-10-08T20:38:56.836956Z"
    },
    "scrolled": false
   },
   "outputs": [
    {
     "data": {
      "text/plain": [
       "(17.999, 32.0]    4538\n",
       "(41.0, 48.0]      4279\n",
       "(32.0, 37.0]      4046\n",
       "(56.0, 99.0]      3739\n",
       "(48.0, 56.0]      3477\n",
       "(37.0, 41.0]      3407\n",
       "Name: age_bins, dtype: int64"
      ]
     },
     "execution_count": 15,
     "metadata": {},
     "output_type": "execute_result"
    }
   ],
   "source": [
    "# Binning age\n",
    "age_bins = pd.qcut(df['Age'], q=6).rename('age_bins')\n",
    "df = pd.concat([df, age_bins], axis=1)\n",
    "df.age_bins.value_counts()"
   ]
  },
  {
   "cell_type": "code",
   "execution_count": 16,
   "metadata": {
    "ExecuteTime": {
     "end_time": "2021-10-08T20:38:56.924830Z",
     "start_time": "2021-10-08T20:38:56.855396Z"
    }
   },
   "outputs": [
    {
     "data": {
      "text/html": [
       "<style  type=\"text/css\" >\n",
       "#T_fd053_row0_col1{\n",
       "            background-color:  #bde496;\n",
       "            color:  #000000;\n",
       "        }#T_fd053_row0_col2,#T_fd053_row5_col1{\n",
       "            background-color:  #004529;\n",
       "            color:  #f1f1f1;\n",
       "        }#T_fd053_row1_col1{\n",
       "            background-color:  #f9fdc2;\n",
       "            color:  #000000;\n",
       "        }#T_fd053_row1_col2{\n",
       "            background-color:  #5cb86b;\n",
       "            color:  #000000;\n",
       "        }#T_fd053_row2_col1{\n",
       "            background-color:  #70c275;\n",
       "            color:  #000000;\n",
       "        }#T_fd053_row2_col2,#T_fd053_row3_col1{\n",
       "            background-color:  #ffffe5;\n",
       "            color:  #000000;\n",
       "        }#T_fd053_row3_col2{\n",
       "            background-color:  #1d7f41;\n",
       "            color:  #f1f1f1;\n",
       "        }#T_fd053_row4_col1{\n",
       "            background-color:  #64bc6f;\n",
       "            color:  #000000;\n",
       "        }#T_fd053_row4_col2{\n",
       "            background-color:  #fbfed0;\n",
       "            color:  #000000;\n",
       "        }#T_fd053_row5_col2{\n",
       "            background-color:  #c9e99c;\n",
       "            color:  #000000;\n",
       "        }</style><table id=\"T_fd053_\" ><thead>    <tr>        <th class=\"blank level0\" ></th>        <th class=\"col_heading level0 col0\" >Age Groups</th>        <th class=\"col_heading level0 col1\" >Average_Rating</th>        <th class=\"col_heading level0 col2\" >Num_reviews</th>    </tr></thead><tbody>\n",
       "                <tr>\n",
       "                        <th id=\"T_fd053_level0_row0\" class=\"row_heading level0 row0\" >0</th>\n",
       "                        <td id=\"T_fd053_row0_col0\" class=\"data row0 col0\" >(17.999, 32.0]</td>\n",
       "                        <td id=\"T_fd053_row0_col1\" class=\"data row0 col1\" >4.19</td>\n",
       "                        <td id=\"T_fd053_row0_col2\" class=\"data row0 col2\" >4538</td>\n",
       "            </tr>\n",
       "            <tr>\n",
       "                        <th id=\"T_fd053_level0_row1\" class=\"row_heading level0 row1\" >1</th>\n",
       "                        <td id=\"T_fd053_row1_col0\" class=\"data row1 col0\" >(32.0, 37.0]</td>\n",
       "                        <td id=\"T_fd053_row1_col1\" class=\"data row1 col1\" >4.15</td>\n",
       "                        <td id=\"T_fd053_row1_col2\" class=\"data row1 col2\" >4046</td>\n",
       "            </tr>\n",
       "            <tr>\n",
       "                        <th id=\"T_fd053_level0_row2\" class=\"row_heading level0 row2\" >2</th>\n",
       "                        <td id=\"T_fd053_row2_col0\" class=\"data row2 col0\" >(37.0, 41.0]</td>\n",
       "                        <td id=\"T_fd053_row2_col1\" class=\"data row2 col1\" >4.21</td>\n",
       "                        <td id=\"T_fd053_row2_col2\" class=\"data row2 col2\" >3407</td>\n",
       "            </tr>\n",
       "            <tr>\n",
       "                        <th id=\"T_fd053_level0_row3\" class=\"row_heading level0 row3\" >3</th>\n",
       "                        <td id=\"T_fd053_row3_col0\" class=\"data row3 col0\" >(41.0, 48.0]</td>\n",
       "                        <td id=\"T_fd053_row3_col1\" class=\"data row3 col1\" >4.14</td>\n",
       "                        <td id=\"T_fd053_row3_col2\" class=\"data row3 col2\" >4279</td>\n",
       "            </tr>\n",
       "            <tr>\n",
       "                        <th id=\"T_fd053_level0_row4\" class=\"row_heading level0 row4\" >4</th>\n",
       "                        <td id=\"T_fd053_row4_col0\" class=\"data row4 col0\" >(48.0, 56.0]</td>\n",
       "                        <td id=\"T_fd053_row4_col1\" class=\"data row4 col1\" >4.22</td>\n",
       "                        <td id=\"T_fd053_row4_col2\" class=\"data row4 col2\" >3477</td>\n",
       "            </tr>\n",
       "            <tr>\n",
       "                        <th id=\"T_fd053_level0_row5\" class=\"row_heading level0 row5\" >5</th>\n",
       "                        <td id=\"T_fd053_row5_col0\" class=\"data row5 col0\" >(56.0, 99.0]</td>\n",
       "                        <td id=\"T_fd053_row5_col1\" class=\"data row5 col1\" >4.28</td>\n",
       "                        <td id=\"T_fd053_row5_col2\" class=\"data row5 col2\" >3739</td>\n",
       "            </tr>\n",
       "    </tbody></table>"
      ],
      "text/plain": [
       "<pandas.io.formats.style.Styler at 0x7fd707a0faf0>"
      ]
     },
     "execution_count": 16,
     "metadata": {},
     "output_type": "execute_result"
    }
   ],
   "source": [
    "# Average rating for each age group\n",
    "# The oldest age group (56 to 99 yo) has the highest average rating, but all age groups have pretty similar average ratings.\n",
    "(df.groupby('age_bins')\n",
    " .agg({'Rating': 'mean', 'clean_review_text': 'count'})\n",
    " .reset_index()\n",
    " .rename(columns={'Rating': 'Average_Rating', 'clean_review_text': 'Num_reviews', 'age_bins': 'Age Groups'})\n",
    " .style.background_gradient(cmap = 'YlGn')\n",
    " .format({'Average_Rating':'{:.2f}', 'Num_reviews': '{:.0f}'}))"
   ]
  },
  {
   "cell_type": "code",
   "execution_count": 17,
   "metadata": {
    "ExecuteTime": {
     "end_time": "2021-10-08T20:38:57.020957Z",
     "start_time": "2021-10-08T20:38:56.926661Z"
    }
   },
   "outputs": [
    {
     "name": "stdout",
     "output_type": "stream",
     "text": [
      "Percent of ratings that come from each age group\n"
     ]
    },
    {
     "data": {
      "text/html": [
       "<style  type=\"text/css\" >\n",
       "#T_45776_row0_col0{\n",
       "            background-color:  #d7efa2;\n",
       "            color:  #000000;\n",
       "        }#T_45776_row0_col1,#T_45776_row1_col3,#T_45776_row2_col0,#T_45776_row3_col4,#T_45776_row4_col1,#T_45776_row5_col2,#T_45776_row6_col0,#T_45776_row6_col1,#T_45776_row6_col2,#T_45776_row6_col3,#T_45776_row6_col4,#T_45776_row6_col5{\n",
       "            background-color:  #ffffe5;\n",
       "            color:  #000000;\n",
       "        }#T_45776_row0_col2,#T_45776_row1_col1,#T_45776_row2_col3,#T_45776_row3_col1,#T_45776_row4_col3,#T_45776_row5_col4{\n",
       "            background-color:  #004529;\n",
       "            color:  #f1f1f1;\n",
       "        }#T_45776_row0_col3{\n",
       "            background-color:  #eaf7af;\n",
       "            color:  #000000;\n",
       "        }#T_45776_row0_col4{\n",
       "            background-color:  #d2eda0;\n",
       "            color:  #000000;\n",
       "        }#T_45776_row0_col5,#T_45776_row3_col2{\n",
       "            background-color:  #c0e597;\n",
       "            color:  #000000;\n",
       "        }#T_45776_row1_col0{\n",
       "            background-color:  #fafdc9;\n",
       "            color:  #000000;\n",
       "        }#T_45776_row1_col2{\n",
       "            background-color:  #b3e091;\n",
       "            color:  #000000;\n",
       "        }#T_45776_row1_col4{\n",
       "            background-color:  #fcfed4;\n",
       "            color:  #000000;\n",
       "        }#T_45776_row1_col5{\n",
       "            background-color:  #f4fbb7;\n",
       "            color:  #000000;\n",
       "        }#T_45776_row2_col1{\n",
       "            background-color:  #abdc8d;\n",
       "            color:  #000000;\n",
       "        }#T_45776_row2_col2{\n",
       "            background-color:  #4ab062;\n",
       "            color:  #000000;\n",
       "        }#T_45776_row2_col4{\n",
       "            background-color:  #61bb6d;\n",
       "            color:  #000000;\n",
       "        }#T_45776_row2_col5{\n",
       "            background-color:  #42ab5d;\n",
       "            color:  #000000;\n",
       "        }#T_45776_row3_col0{\n",
       "            background-color:  #00472a;\n",
       "            color:  #f1f1f1;\n",
       "        }#T_45776_row3_col3{\n",
       "            background-color:  #90d083;\n",
       "            color:  #000000;\n",
       "        }#T_45776_row3_col5{\n",
       "            background-color:  #ddf1a6;\n",
       "            color:  #000000;\n",
       "        }#T_45776_row4_col0{\n",
       "            background-color:  #b1df90;\n",
       "            color:  #000000;\n",
       "        }#T_45776_row4_col2{\n",
       "            background-color:  #70c275;\n",
       "            color:  #000000;\n",
       "        }#T_45776_row4_col4{\n",
       "            background-color:  #2f944e;\n",
       "            color:  #000000;\n",
       "        }#T_45776_row4_col5{\n",
       "            background-color:  #339951;\n",
       "            color:  #000000;\n",
       "        }#T_45776_row5_col0{\n",
       "            background-color:  #005530;\n",
       "            color:  #f1f1f1;\n",
       "        }#T_45776_row5_col1{\n",
       "            background-color:  #fbfdcf;\n",
       "            color:  #000000;\n",
       "        }#T_45776_row5_col3{\n",
       "            background-color:  #e6f5ac;\n",
       "            color:  #000000;\n",
       "        }#T_45776_row5_col5{\n",
       "            background-color:  #3ea75a;\n",
       "            color:  #000000;\n",
       "        }</style><table id=\"T_45776_\" ><thead>    <tr>        <th class=\"index_name level0\" >Rating</th>        <th class=\"col_heading level0 col0\" >1</th>        <th class=\"col_heading level0 col1\" >2</th>        <th class=\"col_heading level0 col2\" >3</th>        <th class=\"col_heading level0 col3\" >4</th>        <th class=\"col_heading level0 col4\" >5</th>        <th class=\"col_heading level0 col5\" >All</th>    </tr>    <tr>        <th class=\"index_name level0\" >age_bins</th>        <th class=\"blank\" ></th>        <th class=\"blank\" ></th>        <th class=\"blank\" ></th>        <th class=\"blank\" ></th>        <th class=\"blank\" ></th>        <th class=\"blank\" ></th>    </tr></thead><tbody>\n",
       "                <tr>\n",
       "                        <th id=\"T_45776_level0_row0\" class=\"row_heading level0 row0\" >(17.999, 32.0]</th>\n",
       "                        <td id=\"T_45776_row0_col0\" class=\"data row0 col0\" >0.19</td>\n",
       "                        <td id=\"T_45776_row0_col1\" class=\"data row0 col1\" >0.18</td>\n",
       "                        <td id=\"T_45776_row0_col2\" class=\"data row0 col2\" >0.21</td>\n",
       "                        <td id=\"T_45776_row0_col3\" class=\"data row0 col3\" >0.19</td>\n",
       "                        <td id=\"T_45776_row0_col4\" class=\"data row0 col4\" >0.19</td>\n",
       "                        <td id=\"T_45776_row0_col5\" class=\"data row0 col5\" >0.19</td>\n",
       "            </tr>\n",
       "            <tr>\n",
       "                        <th id=\"T_45776_level0_row1\" class=\"row_heading level0 row1\" >(32.0, 37.0]</th>\n",
       "                        <td id=\"T_45776_row1_col0\" class=\"data row1 col0\" >0.17</td>\n",
       "                        <td id=\"T_45776_row1_col1\" class=\"data row1 col1\" >0.21</td>\n",
       "                        <td id=\"T_45776_row1_col2\" class=\"data row1 col2\" >0.18</td>\n",
       "                        <td id=\"T_45776_row1_col3\" class=\"data row1 col3\" >0.17</td>\n",
       "                        <td id=\"T_45776_row1_col4\" class=\"data row1 col4\" >0.17</td>\n",
       "                        <td id=\"T_45776_row1_col5\" class=\"data row1 col5\" >0.17</td>\n",
       "            </tr>\n",
       "            <tr>\n",
       "                        <th id=\"T_45776_level0_row2\" class=\"row_heading level0 row2\" >(37.0, 41.0]</th>\n",
       "                        <td id=\"T_45776_row2_col0\" class=\"data row2 col0\" >0.12</td>\n",
       "                        <td id=\"T_45776_row2_col1\" class=\"data row2 col1\" >0.13</td>\n",
       "                        <td id=\"T_45776_row2_col2\" class=\"data row2 col2\" >0.14</td>\n",
       "                        <td id=\"T_45776_row2_col3\" class=\"data row2 col3\" >0.16</td>\n",
       "                        <td id=\"T_45776_row2_col4\" class=\"data row2 col4\" >0.14</td>\n",
       "                        <td id=\"T_45776_row2_col5\" class=\"data row2 col5\" >0.15</td>\n",
       "            </tr>\n",
       "            <tr>\n",
       "                        <th id=\"T_45776_level0_row3\" class=\"row_heading level0 row3\" >(41.0, 48.0]</th>\n",
       "                        <td id=\"T_45776_row3_col0\" class=\"data row3 col0\" >0.21</td>\n",
       "                        <td id=\"T_45776_row3_col1\" class=\"data row3 col1\" >0.21</td>\n",
       "                        <td id=\"T_45776_row3_col2\" class=\"data row3 col2\" >0.18</td>\n",
       "                        <td id=\"T_45776_row3_col3\" class=\"data row3 col3\" >0.19</td>\n",
       "                        <td id=\"T_45776_row3_col4\" class=\"data row3 col4\" >0.17</td>\n",
       "                        <td id=\"T_45776_row3_col5\" class=\"data row3 col5\" >0.18</td>\n",
       "            </tr>\n",
       "            <tr>\n",
       "                        <th id=\"T_45776_level0_row4\" class=\"row_heading level0 row4\" >(48.0, 56.0]</th>\n",
       "                        <td id=\"T_45776_row4_col0\" class=\"data row4 col0\" >0.14</td>\n",
       "                        <td id=\"T_45776_row4_col1\" class=\"data row4 col1\" >0.13</td>\n",
       "                        <td id=\"T_45776_row4_col2\" class=\"data row4 col2\" >0.14</td>\n",
       "                        <td id=\"T_45776_row4_col3\" class=\"data row4 col3\" >0.15</td>\n",
       "                        <td id=\"T_45776_row4_col4\" class=\"data row4 col4\" >0.15</td>\n",
       "                        <td id=\"T_45776_row4_col5\" class=\"data row4 col5\" >0.15</td>\n",
       "            </tr>\n",
       "            <tr>\n",
       "                        <th id=\"T_45776_level0_row5\" class=\"row_heading level0 row5\" >(56.0, 99.0]</th>\n",
       "                        <td id=\"T_45776_row5_col0\" class=\"data row5 col0\" >0.17</td>\n",
       "                        <td id=\"T_45776_row5_col1\" class=\"data row5 col1\" >0.13</td>\n",
       "                        <td id=\"T_45776_row5_col2\" class=\"data row5 col2\" >0.13</td>\n",
       "                        <td id=\"T_45776_row5_col3\" class=\"data row5 col3\" >0.14</td>\n",
       "                        <td id=\"T_45776_row5_col4\" class=\"data row5 col4\" >0.17</td>\n",
       "                        <td id=\"T_45776_row5_col5\" class=\"data row5 col5\" >0.16</td>\n",
       "            </tr>\n",
       "            <tr>\n",
       "                        <th id=\"T_45776_level0_row6\" class=\"row_heading level0 row6\" >All</th>\n",
       "                        <td id=\"T_45776_row6_col0\" class=\"data row6 col0\" >1.00</td>\n",
       "                        <td id=\"T_45776_row6_col1\" class=\"data row6 col1\" >1.00</td>\n",
       "                        <td id=\"T_45776_row6_col2\" class=\"data row6 col2\" >1.00</td>\n",
       "                        <td id=\"T_45776_row6_col3\" class=\"data row6 col3\" >1.00</td>\n",
       "                        <td id=\"T_45776_row6_col4\" class=\"data row6 col4\" >1.00</td>\n",
       "                        <td id=\"T_45776_row6_col5\" class=\"data row6 col5\" >1.00</td>\n",
       "            </tr>\n",
       "    </tbody></table>"
      ],
      "text/plain": [
       "<pandas.io.formats.style.Styler at 0x7fd707994700>"
      ]
     },
     "execution_count": 17,
     "metadata": {},
     "output_type": "execute_result"
    }
   ],
   "source": [
    "# Percent of ratings that come from each age group\n",
    "\n",
    "# Most of the 1 ratings (worst) come from the 41 to 48 age group\n",
    "# Most of the 5 ratings (best) come from the 56 to 99 age group\n",
    "age_ratings = pd.pivot_table(data = df\n",
    "              , values = 'clean_review_text'\n",
    "              , index = 'age_bins'\n",
    "              , columns = 'Rating'\n",
    "              , aggfunc = 'count'\n",
    "              , fill_value = 0\n",
    "              , margins = True)\n",
    "\n",
    "# Percent of column total\n",
    "age_ratings_pct_col = age_ratings.copy()\n",
    "for i in age_ratings.columns:\n",
    "    age_ratings_pct_col[i] = age_ratings[i] / age_ratings.iloc[-1][i]\n",
    "\n",
    "print('Percent of ratings that come from each age group')\n",
    "rounded = dict()\n",
    "for i in age_ratings_pct_col.columns:\n",
    "    rounded[i] = \"{:.2f}\" # create a dictionary to format the decimals \n",
    "\n",
    "age_ratings_pct_col.style.background_gradient(axis=1, cmap = 'YlGn').format(rounded)"
   ]
  },
  {
   "cell_type": "markdown",
   "metadata": {},
   "source": [
    "# Natural language processing"
   ]
  },
  {
   "cell_type": "markdown",
   "metadata": {},
   "source": [
    "## Frequent ngrams by recommendation\n",
    "Find the 20 most common unigrams, bigrams, and trigrams used in reviews, and separate them by whether they recommend the product.\n",
    "\n",
    "* Terms like \"fit well\", \"true fit\", and \"fit perfectly\" are common in reviews that recommend the product.\n",
    "\n",
    "* Terms like \"run small\", \"sadly going back\", and \"first time wore\" are common in reviews that don't recommend the product."
   ]
  },
  {
   "cell_type": "code",
   "execution_count": 18,
   "metadata": {
    "ExecuteTime": {
     "end_time": "2021-10-08T20:39:12.289297Z",
     "start_time": "2021-10-08T20:38:57.023800Z"
    },
    "scrolled": false
   },
   "outputs": [
    {
     "data": {
      "image/png": "[encoded data removed]",
      "text/plain": [
       "<Figure size 1080x1080 with 6 Axes>"
      ]
     },
     "metadata": {
      "needs_background": "light"
     },
     "output_type": "display_data"
    }
   ],
   "source": [
    "# Store ngrams for reviews that recommend and don't recommend the product in a dictionary\n",
    "ngrams_dict = dict()\n",
    "\n",
    "for i in sorted(df['Recommended IND'].unique(), reverse=True):\n",
    "    X = df[df['Recommended IND'] == i]['clean_review_text']\n",
    "    for n in range(1, 4):\n",
    "        vectorizer = CountVectorizer(max_features = 20, ngram_range = (n,n))\n",
    "        DTM = vectorizer.fit_transform(X)\n",
    "        frequencies = sum(DTM).toarray()[0]\n",
    "        ngrams = pd.DataFrame(frequencies, index = vectorizer.get_feature_names(), columns = ['Frequency'])\n",
    "        ngrams.sort_values('Frequency', ascending = False, inplace=True)\n",
    "        ngrams = ngrams.reset_index().rename(columns={'index':'Term'})\n",
    "        ngrams['ngram'] = n\n",
    "        ngrams['recommend'] = i\n",
    "        ngrams_dict[str(i) + '_' + str(n)] = ngrams\n",
    "\n",
    "# Plot ngrams by recommendation\n",
    "fig = plt.figure(figsize = (15, 15))\n",
    "fig.subplots_adjust(hspace=0.4, wspace=0.4)\n",
    "\n",
    "for i, j in enumerate(list(ngrams_dict.keys())):\n",
    "    i = i + 1\n",
    "    to_plot = ngrams_dict[j]\n",
    "    to_plot.sort_values('Frequency', inplace=True)\n",
    "    not_rec_keys = ['0_1', '0_2', '0_3']\n",
    "    if j in not_rec_keys:\n",
    "        ax = fig.add_subplot(2, 3, i)\n",
    "        ax.barh(to_plot.Term, to_plot.Frequency, color='red')\n",
    "        ax.set_title(\"Recommend: \" + str(j[:1]) + \";    Ngram: \" + str(j[-1:]))\n",
    "    else:\n",
    "        ax = fig.add_subplot(2, 3, i)\n",
    "        ax.barh(to_plot.Term, to_plot.Frequency, color='green')\n",
    "        ax.set_title(\"Recommend: \" + str(j[:1]) + \";    Ngram: \" + str(j[-1:]))\n",
    "\n",
    "for ax in axs.flat:\n",
    "    ax.set(xlabel='Frequency', ylabel='Ngram')\n",
    "plt.suptitle('20 Most Frequent Ngrams (1, 2, 3) used in Reviews by its Recommendation\\n(Recommend = 1 and Do Not Recommend = 0)', fontsize=20, verticalalignment='center', horizontalalignment='center')\n",
    "plt.tight_layout()\n",
    "plt.show()"
   ]
  },
  {
   "cell_type": "markdown",
   "metadata": {},
   "source": [
    "## Cosine similarity"
   ]
  },
  {
   "cell_type": "markdown",
   "metadata": {},
   "source": [
    "Which product classes have the most similar and dissimilar reviews?\n",
    "* Reviews for Dresses and Skirts are the most unique reviews (they are most dissimilar to reviews of other products)\n",
    "* Reviews for Lounge are most similar to reviews for other products"
   ]
  },
  {
   "cell_type": "code",
   "execution_count": 19,
   "metadata": {
    "ExecuteTime": {
     "end_time": "2021-10-08T20:39:15.838287Z",
     "start_time": "2021-10-08T20:39:12.291140Z"
    }
   },
   "outputs": [
    {
     "data": {
      "text/html": [
       "<style  type=\"text/css\" >\n",
       "#T_cbdcc_row0_col0,#T_cbdcc_row1_col1,#T_cbdcc_row2_col2,#T_cbdcc_row3_col3,#T_cbdcc_row4_col4,#T_cbdcc_row5_col5,#T_cbdcc_row6_col6,#T_cbdcc_row7_col7,#T_cbdcc_row8_col8,#T_cbdcc_row9_col9,#T_cbdcc_row10_col10,#T_cbdcc_row11_col11,#T_cbdcc_row12_col12,#T_cbdcc_row13_col13,#T_cbdcc_row14_col14,#T_cbdcc_row15_col15,#T_cbdcc_row16_col16,#T_cbdcc_row17_col17{\n",
       "            background-color:  #004529;\n",
       "            color:  #f1f1f1;\n",
       "        }#T_cbdcc_row0_col1,#T_cbdcc_row1_col13,#T_cbdcc_row2_col1,#T_cbdcc_row3_col13,#T_cbdcc_row4_col13,#T_cbdcc_row5_col1,#T_cbdcc_row6_col1,#T_cbdcc_row7_col13,#T_cbdcc_row8_col1,#T_cbdcc_row9_col13,#T_cbdcc_row10_col1,#T_cbdcc_row10_col13,#T_cbdcc_row11_col1,#T_cbdcc_row12_col1,#T_cbdcc_row13_col1,#T_cbdcc_row14_col13,#T_cbdcc_row15_col1,#T_cbdcc_row16_col1,#T_cbdcc_row17_col8{\n",
       "            background-color:  #ffffe5;\n",
       "            color:  #000000;\n",
       "        }#T_cbdcc_row0_col2{\n",
       "            background-color:  #83cb7d;\n",
       "            color:  #000000;\n",
       "        }#T_cbdcc_row0_col3,#T_cbdcc_row0_col11,#T_cbdcc_row0_col16,#T_cbdcc_row8_col11,#T_cbdcc_row13_col17{\n",
       "            background-color:  #b3e091;\n",
       "            color:  #000000;\n",
       "        }#T_cbdcc_row0_col4,#T_cbdcc_row2_col10,#T_cbdcc_row11_col0{\n",
       "            background-color:  #b6e192;\n",
       "            color:  #000000;\n",
       "        }#T_cbdcc_row0_col5,#T_cbdcc_row1_col2,#T_cbdcc_row1_col11,#T_cbdcc_row2_col5,#T_cbdcc_row3_col15,#T_cbdcc_row4_col12{\n",
       "            background-color:  #e9f6af;\n",
       "            color:  #000000;\n",
       "        }#T_cbdcc_row0_col6{\n",
       "            background-color:  #005830;\n",
       "            color:  #f1f1f1;\n",
       "        }#T_cbdcc_row0_col7,#T_cbdcc_row2_col9,#T_cbdcc_row9_col11{\n",
       "            background-color:  #55b567;\n",
       "            color:  #000000;\n",
       "        }#T_cbdcc_row0_col8,#T_cbdcc_row13_col8{\n",
       "            background-color:  #fbfed0;\n",
       "            color:  #000000;\n",
       "        }#T_cbdcc_row0_col9{\n",
       "            background-color:  #53b466;\n",
       "            color:  #000000;\n",
       "        }#T_cbdcc_row0_col10,#T_cbdcc_row0_col15,#T_cbdcc_row7_col10,#T_cbdcc_row8_col5{\n",
       "            background-color:  #ddf1a6;\n",
       "            color:  #000000;\n",
       "        }#T_cbdcc_row0_col12,#T_cbdcc_row8_col6,#T_cbdcc_row12_col2,#T_cbdcc_row14_col10{\n",
       "            background-color:  #cbea9c;\n",
       "            color:  #000000;\n",
       "        }#T_cbdcc_row0_col13,#T_cbdcc_row6_col13,#T_cbdcc_row15_col13{\n",
       "            background-color:  #fcfed7;\n",
       "            color:  #000000;\n",
       "        }#T_cbdcc_row0_col14,#T_cbdcc_row2_col7,#T_cbdcc_row7_col14{\n",
       "            background-color:  #89ce80;\n",
       "            color:  #000000;\n",
       "        }#T_cbdcc_row0_col17{\n",
       "            background-color:  #8dcf81;\n",
       "            color:  #000000;\n",
       "        }#T_cbdcc_row1_col0,#T_cbdcc_row15_col12,#T_cbdcc_row17_col13{\n",
       "            background-color:  #ebf7b0;\n",
       "            color:  #000000;\n",
       "        }#T_cbdcc_row1_col3,#T_cbdcc_row5_col16{\n",
       "            background-color:  #f0f9b4;\n",
       "            color:  #000000;\n",
       "        }#T_cbdcc_row1_col4,#T_cbdcc_row5_col15,#T_cbdcc_row16_col12{\n",
       "            background-color:  #e2f4aa;\n",
       "            color:  #000000;\n",
       "        }#T_cbdcc_row1_col5,#T_cbdcc_row8_col13{\n",
       "            background-color:  #fdfedd;\n",
       "            color:  #000000;\n",
       "        }#T_cbdcc_row1_col6,#T_cbdcc_row11_col16,#T_cbdcc_row13_col4,#T_cbdcc_row16_col10{\n",
       "            background-color:  #e7f6ad;\n",
       "            color:  #000000;\n",
       "        }#T_cbdcc_row1_col7,#T_cbdcc_row11_col15,#T_cbdcc_row14_col16{\n",
       "            background-color:  #e6f5ac;\n",
       "            color:  #000000;\n",
       "        }#T_cbdcc_row1_col8{\n",
       "            background-color:  #fdfeda;\n",
       "            color:  #000000;\n",
       "        }#T_cbdcc_row1_col9,#T_cbdcc_row2_col6{\n",
       "            background-color:  #56b568;\n",
       "            color:  #000000;\n",
       "        }#T_cbdcc_row1_col10,#T_cbdcc_row13_col10{\n",
       "            background-color:  #f4fbb7;\n",
       "            color:  #000000;\n",
       "        }#T_cbdcc_row1_col12{\n",
       "            background-color:  #f8fcc0;\n",
       "            color:  #000000;\n",
       "        }#T_cbdcc_row1_col14,#T_cbdcc_row4_col11,#T_cbdcc_row16_col14,#T_cbdcc_row17_col11{\n",
       "            background-color:  #bee596;\n",
       "            color:  #000000;\n",
       "        }#T_cbdcc_row1_col15,#T_cbdcc_row5_col13{\n",
       "            background-color:  #fafdc9;\n",
       "            color:  #000000;\n",
       "        }#T_cbdcc_row1_col16{\n",
       "            background-color:  #fcfed3;\n",
       "            color:  #000000;\n",
       "        }#T_cbdcc_row1_col17{\n",
       "            background-color:  #298c48;\n",
       "            color:  #000000;\n",
       "        }#T_cbdcc_row2_col0,#T_cbdcc_row2_col14,#T_cbdcc_row5_col9{\n",
       "            background-color:  #84cb7e;\n",
       "            color:  #000000;\n",
       "        }#T_cbdcc_row2_col3,#T_cbdcc_row5_col7,#T_cbdcc_row13_col9,#T_cbdcc_row15_col11{\n",
       "            background-color:  #ccea9d;\n",
       "            color:  #000000;\n",
       "        }#T_cbdcc_row2_col4,#T_cbdcc_row16_col9{\n",
       "            background-color:  #98d486;\n",
       "            color:  #000000;\n",
       "        }#T_cbdcc_row2_col8,#T_cbdcc_row6_col5,#T_cbdcc_row8_col17,#T_cbdcc_row13_col7{\n",
       "            background-color:  #e8f6ae;\n",
       "            color:  #000000;\n",
       "        }#T_cbdcc_row2_col11,#T_cbdcc_row7_col11,#T_cbdcc_row11_col2{\n",
       "            background-color:  #b9e294;\n",
       "            color:  #000000;\n",
       "        }#T_cbdcc_row2_col12,#T_cbdcc_row3_col12,#T_cbdcc_row7_col16,#T_cbdcc_row13_col6,#T_cbdcc_row13_col11,#T_cbdcc_row16_col4{\n",
       "            background-color:  #def2a7;\n",
       "            color:  #000000;\n",
       "        }#T_cbdcc_row2_col13,#T_cbdcc_row16_col8{\n",
       "            background-color:  #fcfed4;\n",
       "            color:  #000000;\n",
       "        }#T_cbdcc_row2_col15,#T_cbdcc_row6_col0{\n",
       "            background-color:  #005931;\n",
       "            color:  #f1f1f1;\n",
       "        }#T_cbdcc_row2_col16,#T_cbdcc_row13_col3{\n",
       "            background-color:  #f2fab5;\n",
       "            color:  #000000;\n",
       "        }#T_cbdcc_row2_col17,#T_cbdcc_row4_col6,#T_cbdcc_row6_col3,#T_cbdcc_row6_col4,#T_cbdcc_row16_col3{\n",
       "            background-color:  #9dd688;\n",
       "            color:  #000000;\n",
       "        }#T_cbdcc_row3_col0,#T_cbdcc_row10_col2,#T_cbdcc_row10_col17{\n",
       "            background-color:  #abdc8d;\n",
       "            color:  #000000;\n",
       "        }#T_cbdcc_row3_col1,#T_cbdcc_row7_col1{\n",
       "            background-color:  #ffffe4;\n",
       "            color:  #000000;\n",
       "        }#T_cbdcc_row3_col2,#T_cbdcc_row5_col0,#T_cbdcc_row7_col17,#T_cbdcc_row8_col2,#T_cbdcc_row15_col0{\n",
       "            background-color:  #c3e698;\n",
       "            color:  #000000;\n",
       "        }#T_cbdcc_row3_col4,#T_cbdcc_row6_col12{\n",
       "            background-color:  #c4e799;\n",
       "            color:  #000000;\n",
       "        }#T_cbdcc_row3_col5,#T_cbdcc_row12_col16{\n",
       "            background-color:  #edf8b2;\n",
       "            color:  #000000;\n",
       "        }#T_cbdcc_row3_col6,#T_cbdcc_row14_col3{\n",
       "            background-color:  #90d083;\n",
       "            color:  #000000;\n",
       "        }#T_cbdcc_row3_col7{\n",
       "            background-color:  #72c376;\n",
       "            color:  #000000;\n",
       "        }#T_cbdcc_row3_col8{\n",
       "            background-color:  #f6fcb8;\n",
       "            color:  #000000;\n",
       "        }#T_cbdcc_row3_col9{\n",
       "            background-color:  #5db96b;\n",
       "            color:  #000000;\n",
       "        }#T_cbdcc_row3_col10,#T_cbdcc_row5_col10,#T_cbdcc_row13_col0{\n",
       "            background-color:  #e3f4aa;\n",
       "            color:  #000000;\n",
       "        }#T_cbdcc_row3_col11,#T_cbdcc_row4_col0,#T_cbdcc_row5_col6,#T_cbdcc_row6_col15,#T_cbdcc_row11_col4{\n",
       "            background-color:  #bce395;\n",
       "            color:  #000000;\n",
       "        }#T_cbdcc_row3_col14,#T_cbdcc_row12_col9{\n",
       "            background-color:  #7fc97c;\n",
       "            color:  #000000;\n",
       "        }#T_cbdcc_row3_col16,#T_cbdcc_row10_col14,#T_cbdcc_row11_col7,#T_cbdcc_row12_col0{\n",
       "            background-color:  #b8e293;\n",
       "            color:  #000000;\n",
       "        }#T_cbdcc_row3_col17{\n",
       "            background-color:  #c8e99b;\n",
       "            color:  #000000;\n",
       "        }#T_cbdcc_row4_col1{\n",
       "            background-color:  #feffde;\n",
       "            color:  #000000;\n",
       "        }#T_cbdcc_row4_col2,#T_cbdcc_row4_col17,#T_cbdcc_row15_col6,#T_cbdcc_row17_col6{\n",
       "            background-color:  #9cd687;\n",
       "            color:  #000000;\n",
       "        }#T_cbdcc_row4_col3,#T_cbdcc_row14_col5{\n",
       "            background-color:  #d3eda0;\n",
       "            color:  #000000;\n",
       "        }#T_cbdcc_row4_col5{\n",
       "            background-color:  #ecf7b1;\n",
       "            color:  #000000;\n",
       "        }#T_cbdcc_row4_col7,#T_cbdcc_row9_col15{\n",
       "            background-color:  #afde8f;\n",
       "            color:  #000000;\n",
       "        }#T_cbdcc_row4_col8,#T_cbdcc_row13_col16{\n",
       "            background-color:  #fbfdcf;\n",
       "            color:  #000000;\n",
       "        }#T_cbdcc_row4_col9{\n",
       "            background-color:  #4cb063;\n",
       "            color:  #000000;\n",
       "        }#T_cbdcc_row4_col10,#T_cbdcc_row14_col11{\n",
       "            background-color:  #4ab062;\n",
       "            color:  #000000;\n",
       "        }#T_cbdcc_row4_col14,#T_cbdcc_row6_col11,#T_cbdcc_row12_col14{\n",
       "            background-color:  #a6da8b;\n",
       "            color:  #000000;\n",
       "        }#T_cbdcc_row4_col15,#T_cbdcc_row17_col2{\n",
       "            background-color:  #a7db8c;\n",
       "            color:  #000000;\n",
       "        }#T_cbdcc_row4_col16{\n",
       "            background-color:  #f9fdc4;\n",
       "            color:  #000000;\n",
       "        }#T_cbdcc_row5_col2,#T_cbdcc_row5_col4,#T_cbdcc_row5_col12,#T_cbdcc_row14_col8,#T_cbdcc_row14_col12,#T_cbdcc_row17_col10{\n",
       "            background-color:  #c1e698;\n",
       "            color:  #000000;\n",
       "        }#T_cbdcc_row5_col3,#T_cbdcc_row8_col15,#T_cbdcc_row10_col0{\n",
       "            background-color:  #d2eda0;\n",
       "            color:  #000000;\n",
       "        }#T_cbdcc_row5_col8,#T_cbdcc_row15_col3{\n",
       "            background-color:  #dbf1a4;\n",
       "            color:  #000000;\n",
       "        }#T_cbdcc_row5_col11,#T_cbdcc_row6_col2,#T_cbdcc_row7_col0{\n",
       "            background-color:  #58b669;\n",
       "            color:  #000000;\n",
       "        }#T_cbdcc_row5_col14{\n",
       "            background-color:  #a1d889;\n",
       "            color:  #000000;\n",
       "        }#T_cbdcc_row5_col17,#T_cbdcc_row8_col7,#T_cbdcc_row10_col6,#T_cbdcc_row11_col3,#T_cbdcc_row16_col11,#T_cbdcc_row16_col17{\n",
       "            background-color:  #c7e89a;\n",
       "            color:  #000000;\n",
       "        }#T_cbdcc_row6_col7{\n",
       "            background-color:  #31974f;\n",
       "            color:  #000000;\n",
       "        }#T_cbdcc_row6_col8,#T_cbdcc_row12_col15,#T_cbdcc_row14_col1{\n",
       "            background-color:  #f1fab5;\n",
       "            color:  #000000;\n",
       "        }#T_cbdcc_row6_col9,#T_cbdcc_row17_col9{\n",
       "            background-color:  #369d54;\n",
       "            color:  #000000;\n",
       "        }#T_cbdcc_row6_col10,#T_cbdcc_row12_col5{\n",
       "            background-color:  #d9f0a3;\n",
       "            color:  #000000;\n",
       "        }#T_cbdcc_row6_col14{\n",
       "            background-color:  #6dc073;\n",
       "            color:  #000000;\n",
       "        }#T_cbdcc_row6_col16{\n",
       "            background-color:  #bde496;\n",
       "            color:  #000000;\n",
       "        }#T_cbdcc_row6_col17,#T_cbdcc_row10_col15{\n",
       "            background-color:  #95d385;\n",
       "            color:  #000000;\n",
       "        }#T_cbdcc_row7_col2,#T_cbdcc_row14_col2{\n",
       "            background-color:  #8bce81;\n",
       "            color:  #000000;\n",
       "        }#T_cbdcc_row7_col3{\n",
       "            background-color:  #7cc87b;\n",
       "            color:  #000000;\n",
       "        }#T_cbdcc_row7_col4,#T_cbdcc_row9_col10,#T_cbdcc_row15_col17{\n",
       "            background-color:  #aedd8e;\n",
       "            color:  #000000;\n",
       "        }#T_cbdcc_row7_col5,#T_cbdcc_row10_col12,#T_cbdcc_row17_col12{\n",
       "            background-color:  #f3fab6;\n",
       "            color:  #000000;\n",
       "        }#T_cbdcc_row7_col6{\n",
       "            background-color:  #30954f;\n",
       "            color:  #000000;\n",
       "        }#T_cbdcc_row7_col8,#T_cbdcc_row8_col10,#T_cbdcc_row12_col10{\n",
       "            background-color:  #edf8b1;\n",
       "            color:  #000000;\n",
       "        }#T_cbdcc_row7_col9{\n",
       "            background-color:  #3ea75a;\n",
       "            color:  #000000;\n",
       "        }#T_cbdcc_row7_col12,#T_cbdcc_row9_col16,#T_cbdcc_row11_col8,#T_cbdcc_row17_col3{\n",
       "            background-color:  #dcf1a5;\n",
       "            color:  #000000;\n",
       "        }#T_cbdcc_row7_col15,#T_cbdcc_row10_col7{\n",
       "            background-color:  #ceeb9e;\n",
       "            color:  #000000;\n",
       "        }#T_cbdcc_row8_col0{\n",
       "            background-color:  #e5f5ac;\n",
       "            color:  #000000;\n",
       "        }#T_cbdcc_row8_col3,#T_cbdcc_row15_col8{\n",
       "            background-color:  #ddf2a6;\n",
       "            color:  #000000;\n",
       "        }#T_cbdcc_row8_col4,#T_cbdcc_row13_col2{\n",
       "            background-color:  #e0f3a8;\n",
       "            color:  #000000;\n",
       "        }#T_cbdcc_row8_col9,#T_cbdcc_row9_col0,#T_cbdcc_row9_col2{\n",
       "            background-color:  #6fc174;\n",
       "            color:  #000000;\n",
       "        }#T_cbdcc_row8_col12{\n",
       "            background-color:  #eaf7af;\n",
       "            color:  #000000;\n",
       "        }#T_cbdcc_row8_col14,#T_cbdcc_row14_col0,#T_cbdcc_row16_col0{\n",
       "            background-color:  #92d183;\n",
       "            color:  #000000;\n",
       "        }#T_cbdcc_row8_col16,#T_cbdcc_row10_col8{\n",
       "            background-color:  #fbfdce;\n",
       "            color:  #000000;\n",
       "        }#T_cbdcc_row9_col1{\n",
       "            background-color:  #9fd788;\n",
       "            color:  #000000;\n",
       "        }#T_cbdcc_row9_col3,#T_cbdcc_row10_col9{\n",
       "            background-color:  #81ca7d;\n",
       "            color:  #000000;\n",
       "        }#T_cbdcc_row9_col4{\n",
       "            background-color:  #62bb6e;\n",
       "            color:  #000000;\n",
       "        }#T_cbdcc_row9_col5{\n",
       "            background-color:  #d0ec9f;\n",
       "            color:  #000000;\n",
       "        }#T_cbdcc_row9_col6{\n",
       "            background-color:  #3fa95c;\n",
       "            color:  #000000;\n",
       "        }#T_cbdcc_row9_col7{\n",
       "            background-color:  #4fb264;\n",
       "            color:  #000000;\n",
       "        }#T_cbdcc_row9_col8,#T_cbdcc_row9_col12,#T_cbdcc_row11_col17{\n",
       "            background-color:  #b5e092;\n",
       "            color:  #000000;\n",
       "        }#T_cbdcc_row9_col14{\n",
       "            background-color:  #228343;\n",
       "            color:  #000000;\n",
       "        }#T_cbdcc_row9_col17,#T_cbdcc_row11_col9{\n",
       "            background-color:  #3fa85b;\n",
       "            color:  #000000;\n",
       "        }#T_cbdcc_row10_col3{\n",
       "            background-color:  #e1f3a9;\n",
       "            color:  #000000;\n",
       "        }#T_cbdcc_row10_col4{\n",
       "            background-color:  #40aa5c;\n",
       "            color:  #000000;\n",
       "        }#T_cbdcc_row10_col5,#T_cbdcc_row13_col5{\n",
       "            background-color:  #f8fdc1;\n",
       "            color:  #000000;\n",
       "        }#T_cbdcc_row10_col11,#T_cbdcc_row12_col3,#T_cbdcc_row12_col4,#T_cbdcc_row16_col2,#T_cbdcc_row17_col15{\n",
       "            background-color:  #d5eea1;\n",
       "            color:  #000000;\n",
       "        }#T_cbdcc_row10_col16{\n",
       "            background-color:  #f8fcbd;\n",
       "            color:  #000000;\n",
       "        }#T_cbdcc_row11_col5{\n",
       "            background-color:  #7ec97b;\n",
       "            color:  #000000;\n",
       "        }#T_cbdcc_row11_col6,#T_cbdcc_row11_col12{\n",
       "            background-color:  #a4d98a;\n",
       "            color:  #000000;\n",
       "        }#T_cbdcc_row11_col10{\n",
       "            background-color:  #dff3a8;\n",
       "            color:  #000000;\n",
       "        }#T_cbdcc_row11_col13,#T_cbdcc_row12_col13{\n",
       "            background-color:  #fbfed2;\n",
       "            color:  #000000;\n",
       "        }#T_cbdcc_row11_col14{\n",
       "            background-color:  #47ae60;\n",
       "            color:  #000000;\n",
       "        }#T_cbdcc_row12_col6{\n",
       "            background-color:  #acdd8e;\n",
       "            color:  #000000;\n",
       "        }#T_cbdcc_row12_col7{\n",
       "            background-color:  #c5e89a;\n",
       "            color:  #000000;\n",
       "        }#T_cbdcc_row12_col8{\n",
       "            background-color:  #f8fcbe;\n",
       "            color:  #000000;\n",
       "        }#T_cbdcc_row12_col11,#T_cbdcc_row14_col7{\n",
       "            background-color:  #8ed082;\n",
       "            color:  #000000;\n",
       "        }#T_cbdcc_row12_col17{\n",
       "            background-color:  #daf0a4;\n",
       "            color:  #000000;\n",
       "        }#T_cbdcc_row13_col12,#T_cbdcc_row17_col16{\n",
       "            background-color:  #eff9b3;\n",
       "            color:  #000000;\n",
       "        }#T_cbdcc_row13_col14{\n",
       "            background-color:  #e4f4ab;\n",
       "            color:  #000000;\n",
       "        }#T_cbdcc_row13_col15,#T_cbdcc_row16_col15{\n",
       "            background-color:  #f7fcbc;\n",
       "            color:  #000000;\n",
       "        }#T_cbdcc_row14_col4{\n",
       "            background-color:  #a9db8c;\n",
       "            color:  #000000;\n",
       "        }#T_cbdcc_row14_col6{\n",
       "            background-color:  #70c275;\n",
       "            color:  #000000;\n",
       "        }#T_cbdcc_row14_col9{\n",
       "            background-color:  #1c7e40;\n",
       "            color:  #f1f1f1;\n",
       "        }#T_cbdcc_row14_col15,#T_cbdcc_row16_col7{\n",
       "            background-color:  #bae394;\n",
       "            color:  #000000;\n",
       "        }#T_cbdcc_row14_col17{\n",
       "            background-color:  #93d284;\n",
       "            color:  #000000;\n",
       "        }#T_cbdcc_row15_col2{\n",
       "            background-color:  #005730;\n",
       "            color:  #f1f1f1;\n",
       "        }#T_cbdcc_row15_col4,#T_cbdcc_row15_col10{\n",
       "            background-color:  #86cc7f;\n",
       "            color:  #000000;\n",
       "        }#T_cbdcc_row15_col5{\n",
       "            background-color:  #eef9b3;\n",
       "            color:  #000000;\n",
       "        }#T_cbdcc_row15_col7{\n",
       "            background-color:  #b1df90;\n",
       "            color:  #000000;\n",
       "        }#T_cbdcc_row15_col9{\n",
       "            background-color:  #74c477;\n",
       "            color:  #000000;\n",
       "        }#T_cbdcc_row15_col14,#T_cbdcc_row16_col6,#T_cbdcc_row17_col14{\n",
       "            background-color:  #97d385;\n",
       "            color:  #000000;\n",
       "        }#T_cbdcc_row15_col16{\n",
       "            background-color:  #f9fdc5;\n",
       "            color:  #000000;\n",
       "        }#T_cbdcc_row16_col5{\n",
       "            background-color:  #f7fcb9;\n",
       "            color:  #000000;\n",
       "        }#T_cbdcc_row16_col13{\n",
       "            background-color:  #feffe2;\n",
       "            color:  #000000;\n",
       "        }#T_cbdcc_row17_col0{\n",
       "            background-color:  #9ad587;\n",
       "            color:  #000000;\n",
       "        }#T_cbdcc_row17_col1{\n",
       "            background-color:  #3ba358;\n",
       "            color:  #000000;\n",
       "        }#T_cbdcc_row17_col4{\n",
       "            background-color:  #a2d88a;\n",
       "            color:  #000000;\n",
       "        }#T_cbdcc_row17_col5{\n",
       "            background-color:  #f5fbb8;\n",
       "            color:  #000000;\n",
       "        }#T_cbdcc_row17_col7{\n",
       "            background-color:  #c9e99c;\n",
       "            color:  #000000;\n",
       "        }</style><table id=\"T_cbdcc_\" ><thead>    <tr>        <th class=\"blank level0\" ></th>        <th class=\"col_heading level0 col0\" >Blouses</th>        <th class=\"col_heading level0 col1\" >Dresses</th>        <th class=\"col_heading level0 col2\" >Fine gauge</th>        <th class=\"col_heading level0 col3\" >Intimates</th>        <th class=\"col_heading level0 col4\" >Jackets</th>        <th class=\"col_heading level0 col5\" >Jeans</th>        <th class=\"col_heading level0 col6\" >Knits</th>        <th class=\"col_heading level0 col7\" >Layering</th>        <th class=\"col_heading level0 col8\" >Legwear</th>        <th class=\"col_heading level0 col9\" >Lounge</th>        <th class=\"col_heading level0 col10\" >Outerwear</th>        <th class=\"col_heading level0 col11\" >Pants</th>        <th class=\"col_heading level0 col12\" >Shorts</th>        <th class=\"col_heading level0 col13\" >Skirts</th>        <th class=\"col_heading level0 col14\" >Sleep</th>        <th class=\"col_heading level0 col15\" >Sweaters</th>        <th class=\"col_heading level0 col16\" >Swim</th>        <th class=\"col_heading level0 col17\" >Trend</th>    </tr></thead><tbody>\n",
       "                <tr>\n",
       "                        <th id=\"T_cbdcc_level0_row0\" class=\"row_heading level0 row0\" >Blouses</th>\n",
       "                        <td id=\"T_cbdcc_row0_col0\" class=\"data row0 col0\" >1.00</td>\n",
       "                        <td id=\"T_cbdcc_row0_col1\" class=\"data row0 col1\" >0.61</td>\n",
       "                        <td id=\"T_cbdcc_row0_col2\" class=\"data row0 col2\" >0.79</td>\n",
       "                        <td id=\"T_cbdcc_row0_col3\" class=\"data row0 col3\" >0.75</td>\n",
       "                        <td id=\"T_cbdcc_row0_col4\" class=\"data row0 col4\" >0.75</td>\n",
       "                        <td id=\"T_cbdcc_row0_col5\" class=\"data row0 col5\" >0.68</td>\n",
       "                        <td id=\"T_cbdcc_row0_col6\" class=\"data row0 col6\" >0.97</td>\n",
       "                        <td id=\"T_cbdcc_row0_col7\" class=\"data row0 col7\" >0.84</td>\n",
       "                        <td id=\"T_cbdcc_row0_col8\" class=\"data row0 col8\" >0.63</td>\n",
       "                        <td id=\"T_cbdcc_row0_col9\" class=\"data row0 col9\" >0.84</td>\n",
       "                        <td id=\"T_cbdcc_row0_col10\" class=\"data row0 col10\" >0.70</td>\n",
       "                        <td id=\"T_cbdcc_row0_col11\" class=\"data row0 col11\" >0.75</td>\n",
       "                        <td id=\"T_cbdcc_row0_col12\" class=\"data row0 col12\" >0.72</td>\n",
       "                        <td id=\"T_cbdcc_row0_col13\" class=\"data row0 col13\" >0.63</td>\n",
       "                        <td id=\"T_cbdcc_row0_col14\" class=\"data row0 col14\" >0.79</td>\n",
       "                        <td id=\"T_cbdcc_row0_col15\" class=\"data row0 col15\" >0.70</td>\n",
       "                        <td id=\"T_cbdcc_row0_col16\" class=\"data row0 col16\" >0.75</td>\n",
       "                        <td id=\"T_cbdcc_row0_col17\" class=\"data row0 col17\" >0.78</td>\n",
       "            </tr>\n",
       "            <tr>\n",
       "                        <th id=\"T_cbdcc_level0_row1\" class=\"row_heading level0 row1\" >Dresses</th>\n",
       "                        <td id=\"T_cbdcc_row1_col0\" class=\"data row1 col0\" >0.61</td>\n",
       "                        <td id=\"T_cbdcc_row1_col1\" class=\"data row1 col1\" >1.00</td>\n",
       "                        <td id=\"T_cbdcc_row1_col2\" class=\"data row1 col2\" >0.61</td>\n",
       "                        <td id=\"T_cbdcc_row1_col3\" class=\"data row1 col3\" >0.60</td>\n",
       "                        <td id=\"T_cbdcc_row1_col4\" class=\"data row1 col4\" >0.63</td>\n",
       "                        <td id=\"T_cbdcc_row1_col5\" class=\"data row1 col5\" >0.54</td>\n",
       "                        <td id=\"T_cbdcc_row1_col6\" class=\"data row1 col6\" >0.62</td>\n",
       "                        <td id=\"T_cbdcc_row1_col7\" class=\"data row1 col7\" >0.62</td>\n",
       "                        <td id=\"T_cbdcc_row1_col8\" class=\"data row1 col8\" >0.54</td>\n",
       "                        <td id=\"T_cbdcc_row1_col9\" class=\"data row1 col9\" >0.80</td>\n",
       "                        <td id=\"T_cbdcc_row1_col10\" class=\"data row1 col10\" >0.59</td>\n",
       "                        <td id=\"T_cbdcc_row1_col11\" class=\"data row1 col11\" >0.61</td>\n",
       "                        <td id=\"T_cbdcc_row1_col12\" class=\"data row1 col12\" >0.58</td>\n",
       "                        <td id=\"T_cbdcc_row1_col13\" class=\"data row1 col13\" >0.53</td>\n",
       "                        <td id=\"T_cbdcc_row1_col14\" class=\"data row1 col14\" >0.68</td>\n",
       "                        <td id=\"T_cbdcc_row1_col15\" class=\"data row1 col15\" >0.56</td>\n",
       "                        <td id=\"T_cbdcc_row1_col16\" class=\"data row1 col16\" >0.55</td>\n",
       "                        <td id=\"T_cbdcc_row1_col17\" class=\"data row1 col17\" >0.87</td>\n",
       "            </tr>\n",
       "            <tr>\n",
       "                        <th id=\"T_cbdcc_level0_row2\" class=\"row_heading level0 row2\" >Fine gauge</th>\n",
       "                        <td id=\"T_cbdcc_row2_col0\" class=\"data row2 col0\" >0.79</td>\n",
       "                        <td id=\"T_cbdcc_row2_col1\" class=\"data row2 col1\" >0.61</td>\n",
       "                        <td id=\"T_cbdcc_row2_col2\" class=\"data row2 col2\" >1.00</td>\n",
       "                        <td id=\"T_cbdcc_row2_col3\" class=\"data row2 col3\" >0.72</td>\n",
       "                        <td id=\"T_cbdcc_row2_col4\" class=\"data row2 col4\" >0.78</td>\n",
       "                        <td id=\"T_cbdcc_row2_col5\" class=\"data row2 col5\" >0.69</td>\n",
       "                        <td id=\"T_cbdcc_row2_col6\" class=\"data row2 col6\" >0.84</td>\n",
       "                        <td id=\"T_cbdcc_row2_col7\" class=\"data row2 col7\" >0.79</td>\n",
       "                        <td id=\"T_cbdcc_row2_col8\" class=\"data row2 col8\" >0.69</td>\n",
       "                        <td id=\"T_cbdcc_row2_col9\" class=\"data row2 col9\" >0.84</td>\n",
       "                        <td id=\"T_cbdcc_row2_col10\" class=\"data row2 col10\" >0.75</td>\n",
       "                        <td id=\"T_cbdcc_row2_col11\" class=\"data row2 col11\" >0.75</td>\n",
       "                        <td id=\"T_cbdcc_row2_col12\" class=\"data row2 col12\" >0.70</td>\n",
       "                        <td id=\"T_cbdcc_row2_col13\" class=\"data row2 col13\" >0.63</td>\n",
       "                        <td id=\"T_cbdcc_row2_col14\" class=\"data row2 col14\" >0.80</td>\n",
       "                        <td id=\"T_cbdcc_row2_col15\" class=\"data row2 col15\" >0.97</td>\n",
       "                        <td id=\"T_cbdcc_row2_col16\" class=\"data row2 col16\" >0.67</td>\n",
       "                        <td id=\"T_cbdcc_row2_col17\" class=\"data row2 col17\" >0.77</td>\n",
       "            </tr>\n",
       "            <tr>\n",
       "                        <th id=\"T_cbdcc_level0_row3\" class=\"row_heading level0 row3\" >Intimates</th>\n",
       "                        <td id=\"T_cbdcc_row3_col0\" class=\"data row3 col0\" >0.75</td>\n",
       "                        <td id=\"T_cbdcc_row3_col1\" class=\"data row3 col1\" >0.60</td>\n",
       "                        <td id=\"T_cbdcc_row3_col2\" class=\"data row3 col2\" >0.72</td>\n",
       "                        <td id=\"T_cbdcc_row3_col3\" class=\"data row3 col3\" >1.00</td>\n",
       "                        <td id=\"T_cbdcc_row3_col4\" class=\"data row3 col4\" >0.72</td>\n",
       "                        <td id=\"T_cbdcc_row3_col5\" class=\"data row3 col5\" >0.66</td>\n",
       "                        <td id=\"T_cbdcc_row3_col6\" class=\"data row3 col6\" >0.78</td>\n",
       "                        <td id=\"T_cbdcc_row3_col7\" class=\"data row3 col7\" >0.80</td>\n",
       "                        <td id=\"T_cbdcc_row3_col8\" class=\"data row3 col8\" >0.65</td>\n",
       "                        <td id=\"T_cbdcc_row3_col9\" class=\"data row3 col9\" >0.82</td>\n",
       "                        <td id=\"T_cbdcc_row3_col10\" class=\"data row3 col10\" >0.68</td>\n",
       "                        <td id=\"T_cbdcc_row3_col11\" class=\"data row3 col11\" >0.73</td>\n",
       "                        <td id=\"T_cbdcc_row3_col12\" class=\"data row3 col12\" >0.69</td>\n",
       "                        <td id=\"T_cbdcc_row3_col13\" class=\"data row3 col13\" >0.60</td>\n",
       "                        <td id=\"T_cbdcc_row3_col14\" class=\"data row3 col14\" >0.79</td>\n",
       "                        <td id=\"T_cbdcc_row3_col15\" class=\"data row3 col15\" >0.67</td>\n",
       "                        <td id=\"T_cbdcc_row3_col16\" class=\"data row3 col16\" >0.74</td>\n",
       "                        <td id=\"T_cbdcc_row3_col17\" class=\"data row3 col17\" >0.72</td>\n",
       "            </tr>\n",
       "            <tr>\n",
       "                        <th id=\"T_cbdcc_level0_row4\" class=\"row_heading level0 row4\" >Jackets</th>\n",
       "                        <td id=\"T_cbdcc_row4_col0\" class=\"data row4 col0\" >0.75</td>\n",
       "                        <td id=\"T_cbdcc_row4_col1\" class=\"data row4 col1\" >0.63</td>\n",
       "                        <td id=\"T_cbdcc_row4_col2\" class=\"data row4 col2\" >0.78</td>\n",
       "                        <td id=\"T_cbdcc_row4_col3\" class=\"data row4 col3\" >0.72</td>\n",
       "                        <td id=\"T_cbdcc_row4_col4\" class=\"data row4 col4\" >1.00</td>\n",
       "                        <td id=\"T_cbdcc_row4_col5\" class=\"data row4 col5\" >0.68</td>\n",
       "                        <td id=\"T_cbdcc_row4_col6\" class=\"data row4 col6\" >0.78</td>\n",
       "                        <td id=\"T_cbdcc_row4_col7\" class=\"data row4 col7\" >0.76</td>\n",
       "                        <td id=\"T_cbdcc_row4_col8\" class=\"data row4 col8\" >0.64</td>\n",
       "                        <td id=\"T_cbdcc_row4_col9\" class=\"data row4 col9\" >0.85</td>\n",
       "                        <td id=\"T_cbdcc_row4_col10\" class=\"data row4 col10\" >0.85</td>\n",
       "                        <td id=\"T_cbdcc_row4_col11\" class=\"data row4 col11\" >0.74</td>\n",
       "                        <td id=\"T_cbdcc_row4_col12\" class=\"data row4 col12\" >0.69</td>\n",
       "                        <td id=\"T_cbdcc_row4_col13\" class=\"data row4 col13\" >0.62</td>\n",
       "                        <td id=\"T_cbdcc_row4_col14\" class=\"data row4 col14\" >0.77</td>\n",
       "                        <td id=\"T_cbdcc_row4_col15\" class=\"data row4 col15\" >0.77</td>\n",
       "                        <td id=\"T_cbdcc_row4_col16\" class=\"data row4 col16\" >0.65</td>\n",
       "                        <td id=\"T_cbdcc_row4_col17\" class=\"data row4 col17\" >0.78</td>\n",
       "            </tr>\n",
       "            <tr>\n",
       "                        <th id=\"T_cbdcc_level0_row5\" class=\"row_heading level0 row5\" >Jeans</th>\n",
       "                        <td id=\"T_cbdcc_row5_col0\" class=\"data row5 col0\" >0.68</td>\n",
       "                        <td id=\"T_cbdcc_row5_col1\" class=\"data row5 col1\" >0.54</td>\n",
       "                        <td id=\"T_cbdcc_row5_col2\" class=\"data row5 col2\" >0.69</td>\n",
       "                        <td id=\"T_cbdcc_row5_col3\" class=\"data row5 col3\" >0.66</td>\n",
       "                        <td id=\"T_cbdcc_row5_col4\" class=\"data row5 col4\" >0.68</td>\n",
       "                        <td id=\"T_cbdcc_row5_col5\" class=\"data row5 col5\" >1.00</td>\n",
       "                        <td id=\"T_cbdcc_row5_col6\" class=\"data row5 col6\" >0.69</td>\n",
       "                        <td id=\"T_cbdcc_row5_col7\" class=\"data row5 col7\" >0.67</td>\n",
       "                        <td id=\"T_cbdcc_row5_col8\" class=\"data row5 col8\" >0.65</td>\n",
       "                        <td id=\"T_cbdcc_row5_col9\" class=\"data row5 col9\" >0.75</td>\n",
       "                        <td id=\"T_cbdcc_row5_col10\" class=\"data row5 col10\" >0.63</td>\n",
       "                        <td id=\"T_cbdcc_row5_col11\" class=\"data row5 col11\" >0.80</td>\n",
       "                        <td id=\"T_cbdcc_row5_col12\" class=\"data row5 col12\" >0.68</td>\n",
       "                        <td id=\"T_cbdcc_row5_col13\" class=\"data row5 col13\" >0.57</td>\n",
       "                        <td id=\"T_cbdcc_row5_col14\" class=\"data row5 col14\" >0.72</td>\n",
       "                        <td id=\"T_cbdcc_row5_col15\" class=\"data row5 col15\" >0.64</td>\n",
       "                        <td id=\"T_cbdcc_row5_col16\" class=\"data row5 col16\" >0.61</td>\n",
       "                        <td id=\"T_cbdcc_row5_col17\" class=\"data row5 col17\" >0.68</td>\n",
       "            </tr>\n",
       "            <tr>\n",
       "                        <th id=\"T_cbdcc_level0_row6\" class=\"row_heading level0 row6\" >Knits</th>\n",
       "                        <td id=\"T_cbdcc_row6_col0\" class=\"data row6 col0\" >0.97</td>\n",
       "                        <td id=\"T_cbdcc_row6_col1\" class=\"data row6 col1\" >0.62</td>\n",
       "                        <td id=\"T_cbdcc_row6_col2\" class=\"data row6 col2\" >0.84</td>\n",
       "                        <td id=\"T_cbdcc_row6_col3\" class=\"data row6 col3\" >0.78</td>\n",
       "                        <td id=\"T_cbdcc_row6_col4\" class=\"data row6 col4\" >0.78</td>\n",
       "                        <td id=\"T_cbdcc_row6_col5\" class=\"data row6 col5\" >0.69</td>\n",
       "                        <td id=\"T_cbdcc_row6_col6\" class=\"data row6 col6\" >1.00</td>\n",
       "                        <td id=\"T_cbdcc_row6_col7\" class=\"data row6 col7\" >0.88</td>\n",
       "                        <td id=\"T_cbdcc_row6_col8\" class=\"data row6 col8\" >0.68</td>\n",
       "                        <td id=\"T_cbdcc_row6_col9\" class=\"data row6 col9\" >0.87</td>\n",
       "                        <td id=\"T_cbdcc_row6_col10\" class=\"data row6 col10\" >0.71</td>\n",
       "                        <td id=\"T_cbdcc_row6_col11\" class=\"data row6 col11\" >0.77</td>\n",
       "                        <td id=\"T_cbdcc_row6_col12\" class=\"data row6 col12\" >0.74</td>\n",
       "                        <td id=\"T_cbdcc_row6_col13\" class=\"data row6 col13\" >0.63</td>\n",
       "                        <td id=\"T_cbdcc_row6_col14\" class=\"data row6 col14\" >0.82</td>\n",
       "                        <td id=\"T_cbdcc_row6_col15\" class=\"data row6 col15\" >0.75</td>\n",
       "                        <td id=\"T_cbdcc_row6_col16\" class=\"data row6 col16\" >0.74</td>\n",
       "                        <td id=\"T_cbdcc_row6_col17\" class=\"data row6 col17\" >0.78</td>\n",
       "            </tr>\n",
       "            <tr>\n",
       "                        <th id=\"T_cbdcc_level0_row7\" class=\"row_heading level0 row7\" >Layering</th>\n",
       "                        <td id=\"T_cbdcc_row7_col0\" class=\"data row7 col0\" >0.84</td>\n",
       "                        <td id=\"T_cbdcc_row7_col1\" class=\"data row7 col1\" >0.62</td>\n",
       "                        <td id=\"T_cbdcc_row7_col2\" class=\"data row7 col2\" >0.79</td>\n",
       "                        <td id=\"T_cbdcc_row7_col3\" class=\"data row7 col3\" >0.80</td>\n",
       "                        <td id=\"T_cbdcc_row7_col4\" class=\"data row7 col4\" >0.76</td>\n",
       "                        <td id=\"T_cbdcc_row7_col5\" class=\"data row7 col5\" >0.67</td>\n",
       "                        <td id=\"T_cbdcc_row7_col6\" class=\"data row7 col6\" >0.88</td>\n",
       "                        <td id=\"T_cbdcc_row7_col7\" class=\"data row7 col7\" >1.00</td>\n",
       "                        <td id=\"T_cbdcc_row7_col8\" class=\"data row7 col8\" >0.68</td>\n",
       "                        <td id=\"T_cbdcc_row7_col9\" class=\"data row7 col9\" >0.86</td>\n",
       "                        <td id=\"T_cbdcc_row7_col10\" class=\"data row7 col10\" >0.71</td>\n",
       "                        <td id=\"T_cbdcc_row7_col11\" class=\"data row7 col11\" >0.75</td>\n",
       "                        <td id=\"T_cbdcc_row7_col12\" class=\"data row7 col12\" >0.71</td>\n",
       "                        <td id=\"T_cbdcc_row7_col13\" class=\"data row7 col13\" >0.62</td>\n",
       "                        <td id=\"T_cbdcc_row7_col14\" class=\"data row7 col14\" >0.79</td>\n",
       "                        <td id=\"T_cbdcc_row7_col15\" class=\"data row7 col15\" >0.72</td>\n",
       "                        <td id=\"T_cbdcc_row7_col16\" class=\"data row7 col16\" >0.70</td>\n",
       "                        <td id=\"T_cbdcc_row7_col17\" class=\"data row7 col17\" >0.74</td>\n",
       "            </tr>\n",
       "            <tr>\n",
       "                        <th id=\"T_cbdcc_level0_row8\" class=\"row_heading level0 row8\" >Legwear</th>\n",
       "                        <td id=\"T_cbdcc_row8_col0\" class=\"data row8 col0\" >0.63</td>\n",
       "                        <td id=\"T_cbdcc_row8_col1\" class=\"data row8 col1\" >0.54</td>\n",
       "                        <td id=\"T_cbdcc_row8_col2\" class=\"data row8 col2\" >0.69</td>\n",
       "                        <td id=\"T_cbdcc_row8_col3\" class=\"data row8 col3\" >0.65</td>\n",
       "                        <td id=\"T_cbdcc_row8_col4\" class=\"data row8 col4\" >0.64</td>\n",
       "                        <td id=\"T_cbdcc_row8_col5\" class=\"data row8 col5\" >0.65</td>\n",
       "                        <td id=\"T_cbdcc_row8_col6\" class=\"data row8 col6\" >0.68</td>\n",
       "                        <td id=\"T_cbdcc_row8_col7\" class=\"data row8 col7\" >0.68</td>\n",
       "                        <td id=\"T_cbdcc_row8_col8\" class=\"data row8 col8\" >1.00</td>\n",
       "                        <td id=\"T_cbdcc_row8_col9\" class=\"data row8 col9\" >0.78</td>\n",
       "                        <td id=\"T_cbdcc_row8_col10\" class=\"data row8 col10\" >0.62</td>\n",
       "                        <td id=\"T_cbdcc_row8_col11\" class=\"data row8 col11\" >0.71</td>\n",
       "                        <td id=\"T_cbdcc_row8_col12\" class=\"data row8 col12\" >0.62</td>\n",
       "                        <td id=\"T_cbdcc_row8_col13\" class=\"data row8 col13\" >0.55</td>\n",
       "                        <td id=\"T_cbdcc_row8_col14\" class=\"data row8 col14\" >0.74</td>\n",
       "                        <td id=\"T_cbdcc_row8_col15\" class=\"data row8 col15\" >0.67</td>\n",
       "                        <td id=\"T_cbdcc_row8_col16\" class=\"data row8 col16\" >0.57</td>\n",
       "                        <td id=\"T_cbdcc_row8_col17\" class=\"data row8 col17\" >0.63</td>\n",
       "            </tr>\n",
       "            <tr>\n",
       "                        <th id=\"T_cbdcc_level0_row9\" class=\"row_heading level0 row9\" >Lounge</th>\n",
       "                        <td id=\"T_cbdcc_row9_col0\" class=\"data row9 col0\" >0.84</td>\n",
       "                        <td id=\"T_cbdcc_row9_col1\" class=\"data row9 col1\" >0.80</td>\n",
       "                        <td id=\"T_cbdcc_row9_col2\" class=\"data row9 col2\" >0.84</td>\n",
       "                        <td id=\"T_cbdcc_row9_col3\" class=\"data row9 col3\" >0.82</td>\n",
       "                        <td id=\"T_cbdcc_row9_col4\" class=\"data row9 col4\" >0.85</td>\n",
       "                        <td id=\"T_cbdcc_row9_col5\" class=\"data row9 col5\" >0.75</td>\n",
       "                        <td id=\"T_cbdcc_row9_col6\" class=\"data row9 col6\" >0.87</td>\n",
       "                        <td id=\"T_cbdcc_row9_col7\" class=\"data row9 col7\" >0.86</td>\n",
       "                        <td id=\"T_cbdcc_row9_col8\" class=\"data row9 col8\" >0.78</td>\n",
       "                        <td id=\"T_cbdcc_row9_col9\" class=\"data row9 col9\" >1.00</td>\n",
       "                        <td id=\"T_cbdcc_row9_col10\" class=\"data row9 col10\" >0.79</td>\n",
       "                        <td id=\"T_cbdcc_row9_col11\" class=\"data row9 col11\" >0.86</td>\n",
       "                        <td id=\"T_cbdcc_row9_col12\" class=\"data row9 col12\" >0.78</td>\n",
       "                        <td id=\"T_cbdcc_row9_col13\" class=\"data row9 col13\" >0.66</td>\n",
       "                        <td id=\"T_cbdcc_row9_col14\" class=\"data row9 col14\" >0.92</td>\n",
       "                        <td id=\"T_cbdcc_row9_col15\" class=\"data row9 col15\" >0.79</td>\n",
       "                        <td id=\"T_cbdcc_row9_col16\" class=\"data row9 col16\" >0.74</td>\n",
       "                        <td id=\"T_cbdcc_row9_col17\" class=\"data row9 col17\" >0.88</td>\n",
       "            </tr>\n",
       "            <tr>\n",
       "                        <th id=\"T_cbdcc_level0_row10\" class=\"row_heading level0 row10\" >Outerwear</th>\n",
       "                        <td id=\"T_cbdcc_row10_col0\" class=\"data row10 col0\" >0.70</td>\n",
       "                        <td id=\"T_cbdcc_row10_col1\" class=\"data row10 col1\" >0.59</td>\n",
       "                        <td id=\"T_cbdcc_row10_col2\" class=\"data row10 col2\" >0.75</td>\n",
       "                        <td id=\"T_cbdcc_row10_col3\" class=\"data row10 col3\" >0.68</td>\n",
       "                        <td id=\"T_cbdcc_row10_col4\" class=\"data row10 col4\" >0.85</td>\n",
       "                        <td id=\"T_cbdcc_row10_col5\" class=\"data row10 col5\" >0.63</td>\n",
       "                        <td id=\"T_cbdcc_row10_col6\" class=\"data row10 col6\" >0.71</td>\n",
       "                        <td id=\"T_cbdcc_row10_col7\" class=\"data row10 col7\" >0.71</td>\n",
       "                        <td id=\"T_cbdcc_row10_col8\" class=\"data row10 col8\" >0.62</td>\n",
       "                        <td id=\"T_cbdcc_row10_col9\" class=\"data row10 col9\" >0.79</td>\n",
       "                        <td id=\"T_cbdcc_row10_col10\" class=\"data row10 col10\" >1.00</td>\n",
       "                        <td id=\"T_cbdcc_row10_col11\" class=\"data row10 col11\" >0.70</td>\n",
       "                        <td id=\"T_cbdcc_row10_col12\" class=\"data row10 col12\" >0.65</td>\n",
       "                        <td id=\"T_cbdcc_row10_col13\" class=\"data row10 col13\" >0.59</td>\n",
       "                        <td id=\"T_cbdcc_row10_col14\" class=\"data row10 col14\" >0.73</td>\n",
       "                        <td id=\"T_cbdcc_row10_col15\" class=\"data row10 col15\" >0.77</td>\n",
       "                        <td id=\"T_cbdcc_row10_col16\" class=\"data row10 col16\" >0.64</td>\n",
       "                        <td id=\"T_cbdcc_row10_col17\" class=\"data row10 col17\" >0.75</td>\n",
       "            </tr>\n",
       "            <tr>\n",
       "                        <th id=\"T_cbdcc_level0_row11\" class=\"row_heading level0 row11\" >Pants</th>\n",
       "                        <td id=\"T_cbdcc_row11_col0\" class=\"data row11 col0\" >0.75</td>\n",
       "                        <td id=\"T_cbdcc_row11_col1\" class=\"data row11 col1\" >0.61</td>\n",
       "                        <td id=\"T_cbdcc_row11_col2\" class=\"data row11 col2\" >0.75</td>\n",
       "                        <td id=\"T_cbdcc_row11_col3\" class=\"data row11 col3\" >0.73</td>\n",
       "                        <td id=\"T_cbdcc_row11_col4\" class=\"data row11 col4\" >0.74</td>\n",
       "                        <td id=\"T_cbdcc_row11_col5\" class=\"data row11 col5\" >0.80</td>\n",
       "                        <td id=\"T_cbdcc_row11_col6\" class=\"data row11 col6\" >0.77</td>\n",
       "                        <td id=\"T_cbdcc_row11_col7\" class=\"data row11 col7\" >0.75</td>\n",
       "                        <td id=\"T_cbdcc_row11_col8\" class=\"data row11 col8\" >0.71</td>\n",
       "                        <td id=\"T_cbdcc_row11_col9\" class=\"data row11 col9\" >0.86</td>\n",
       "                        <td id=\"T_cbdcc_row11_col10\" class=\"data row11 col10\" >0.70</td>\n",
       "                        <td id=\"T_cbdcc_row11_col11\" class=\"data row11 col11\" >1.00</td>\n",
       "                        <td id=\"T_cbdcc_row11_col12\" class=\"data row11 col12\" >0.77</td>\n",
       "                        <td id=\"T_cbdcc_row11_col13\" class=\"data row11 col13\" >0.63</td>\n",
       "                        <td id=\"T_cbdcc_row11_col14\" class=\"data row11 col14\" >0.85</td>\n",
       "                        <td id=\"T_cbdcc_row11_col15\" class=\"data row11 col15\" >0.69</td>\n",
       "                        <td id=\"T_cbdcc_row11_col16\" class=\"data row11 col16\" >0.69</td>\n",
       "                        <td id=\"T_cbdcc_row11_col17\" class=\"data row11 col17\" >0.75</td>\n",
       "            </tr>\n",
       "            <tr>\n",
       "                        <th id=\"T_cbdcc_level0_row12\" class=\"row_heading level0 row12\" >Shorts</th>\n",
       "                        <td id=\"T_cbdcc_row12_col0\" class=\"data row12 col0\" >0.72</td>\n",
       "                        <td id=\"T_cbdcc_row12_col1\" class=\"data row12 col1\" >0.58</td>\n",
       "                        <td id=\"T_cbdcc_row12_col2\" class=\"data row12 col2\" >0.70</td>\n",
       "                        <td id=\"T_cbdcc_row12_col3\" class=\"data row12 col3\" >0.69</td>\n",
       "                        <td id=\"T_cbdcc_row12_col4\" class=\"data row12 col4\" >0.69</td>\n",
       "                        <td id=\"T_cbdcc_row12_col5\" class=\"data row12 col5\" >0.68</td>\n",
       "                        <td id=\"T_cbdcc_row12_col6\" class=\"data row12 col6\" >0.74</td>\n",
       "                        <td id=\"T_cbdcc_row12_col7\" class=\"data row12 col7\" >0.71</td>\n",
       "                        <td id=\"T_cbdcc_row12_col8\" class=\"data row12 col8\" >0.62</td>\n",
       "                        <td id=\"T_cbdcc_row12_col9\" class=\"data row12 col9\" >0.78</td>\n",
       "                        <td id=\"T_cbdcc_row12_col10\" class=\"data row12 col10\" >0.65</td>\n",
       "                        <td id=\"T_cbdcc_row12_col11\" class=\"data row12 col11\" >0.77</td>\n",
       "                        <td id=\"T_cbdcc_row12_col12\" class=\"data row12 col12\" >1.00</td>\n",
       "                        <td id=\"T_cbdcc_row12_col13\" class=\"data row12 col13\" >0.60</td>\n",
       "                        <td id=\"T_cbdcc_row12_col14\" class=\"data row12 col14\" >0.74</td>\n",
       "                        <td id=\"T_cbdcc_row12_col15\" class=\"data row12 col15\" >0.64</td>\n",
       "                        <td id=\"T_cbdcc_row12_col16\" class=\"data row12 col16\" >0.65</td>\n",
       "                        <td id=\"T_cbdcc_row12_col17\" class=\"data row12 col17\" >0.68</td>\n",
       "            </tr>\n",
       "            <tr>\n",
       "                        <th id=\"T_cbdcc_level0_row13\" class=\"row_heading level0 row13\" >Skirts</th>\n",
       "                        <td id=\"T_cbdcc_row13_col0\" class=\"data row13 col0\" >0.63</td>\n",
       "                        <td id=\"T_cbdcc_row13_col1\" class=\"data row13 col1\" >0.53</td>\n",
       "                        <td id=\"T_cbdcc_row13_col2\" class=\"data row13 col2\" >0.63</td>\n",
       "                        <td id=\"T_cbdcc_row13_col3\" class=\"data row13 col3\" >0.60</td>\n",
       "                        <td id=\"T_cbdcc_row13_col4\" class=\"data row13 col4\" >0.62</td>\n",
       "                        <td id=\"T_cbdcc_row13_col5\" class=\"data row13 col5\" >0.57</td>\n",
       "                        <td id=\"T_cbdcc_row13_col6\" class=\"data row13 col6\" >0.63</td>\n",
       "                        <td id=\"T_cbdcc_row13_col7\" class=\"data row13 col7\" >0.62</td>\n",
       "                        <td id=\"T_cbdcc_row13_col8\" class=\"data row13 col8\" >0.55</td>\n",
       "                        <td id=\"T_cbdcc_row13_col9\" class=\"data row13 col9\" >0.66</td>\n",
       "                        <td id=\"T_cbdcc_row13_col10\" class=\"data row13 col10\" >0.59</td>\n",
       "                        <td id=\"T_cbdcc_row13_col11\" class=\"data row13 col11\" >0.63</td>\n",
       "                        <td id=\"T_cbdcc_row13_col12\" class=\"data row13 col12\" >0.60</td>\n",
       "                        <td id=\"T_cbdcc_row13_col13\" class=\"data row13 col13\" >1.00</td>\n",
       "                        <td id=\"T_cbdcc_row13_col14\" class=\"data row13 col14\" >0.62</td>\n",
       "                        <td id=\"T_cbdcc_row13_col15\" class=\"data row13 col15\" >0.58</td>\n",
       "                        <td id=\"T_cbdcc_row13_col16\" class=\"data row13 col16\" >0.56</td>\n",
       "                        <td id=\"T_cbdcc_row13_col17\" class=\"data row13 col17\" >0.69</td>\n",
       "            </tr>\n",
       "            <tr>\n",
       "                        <th id=\"T_cbdcc_level0_row14\" class=\"row_heading level0 row14\" >Sleep</th>\n",
       "                        <td id=\"T_cbdcc_row14_col0\" class=\"data row14 col0\" >0.79</td>\n",
       "                        <td id=\"T_cbdcc_row14_col1\" class=\"data row14 col1\" >0.68</td>\n",
       "                        <td id=\"T_cbdcc_row14_col2\" class=\"data row14 col2\" >0.80</td>\n",
       "                        <td id=\"T_cbdcc_row14_col3\" class=\"data row14 col3\" >0.79</td>\n",
       "                        <td id=\"T_cbdcc_row14_col4\" class=\"data row14 col4\" >0.77</td>\n",
       "                        <td id=\"T_cbdcc_row14_col5\" class=\"data row14 col5\" >0.72</td>\n",
       "                        <td id=\"T_cbdcc_row14_col6\" class=\"data row14 col6\" >0.82</td>\n",
       "                        <td id=\"T_cbdcc_row14_col7\" class=\"data row14 col7\" >0.79</td>\n",
       "                        <td id=\"T_cbdcc_row14_col8\" class=\"data row14 col8\" >0.74</td>\n",
       "                        <td id=\"T_cbdcc_row14_col9\" class=\"data row14 col9\" >0.92</td>\n",
       "                        <td id=\"T_cbdcc_row14_col10\" class=\"data row14 col10\" >0.73</td>\n",
       "                        <td id=\"T_cbdcc_row14_col11\" class=\"data row14 col11\" >0.85</td>\n",
       "                        <td id=\"T_cbdcc_row14_col12\" class=\"data row14 col12\" >0.74</td>\n",
       "                        <td id=\"T_cbdcc_row14_col13\" class=\"data row14 col13\" >0.62</td>\n",
       "                        <td id=\"T_cbdcc_row14_col14\" class=\"data row14 col14\" >1.00</td>\n",
       "                        <td id=\"T_cbdcc_row14_col15\" class=\"data row14 col15\" >0.75</td>\n",
       "                        <td id=\"T_cbdcc_row14_col16\" class=\"data row14 col16\" >0.70</td>\n",
       "                        <td id=\"T_cbdcc_row14_col17\" class=\"data row14 col17\" >0.79</td>\n",
       "            </tr>\n",
       "            <tr>\n",
       "                        <th id=\"T_cbdcc_level0_row15\" class=\"row_heading level0 row15\" >Sweaters</th>\n",
       "                        <td id=\"T_cbdcc_row15_col0\" class=\"data row15 col0\" >0.70</td>\n",
       "                        <td id=\"T_cbdcc_row15_col1\" class=\"data row15 col1\" >0.56</td>\n",
       "                        <td id=\"T_cbdcc_row15_col2\" class=\"data row15 col2\" >0.97</td>\n",
       "                        <td id=\"T_cbdcc_row15_col3\" class=\"data row15 col3\" >0.67</td>\n",
       "                        <td id=\"T_cbdcc_row15_col4\" class=\"data row15 col4\" >0.77</td>\n",
       "                        <td id=\"T_cbdcc_row15_col5\" class=\"data row15 col5\" >0.64</td>\n",
       "                        <td id=\"T_cbdcc_row15_col6\" class=\"data row15 col6\" >0.75</td>\n",
       "                        <td id=\"T_cbdcc_row15_col7\" class=\"data row15 col7\" >0.72</td>\n",
       "                        <td id=\"T_cbdcc_row15_col8\" class=\"data row15 col8\" >0.67</td>\n",
       "                        <td id=\"T_cbdcc_row15_col9\" class=\"data row15 col9\" >0.79</td>\n",
       "                        <td id=\"T_cbdcc_row15_col10\" class=\"data row15 col10\" >0.77</td>\n",
       "                        <td id=\"T_cbdcc_row15_col11\" class=\"data row15 col11\" >0.69</td>\n",
       "                        <td id=\"T_cbdcc_row15_col12\" class=\"data row15 col12\" >0.64</td>\n",
       "                        <td id=\"T_cbdcc_row15_col13\" class=\"data row15 col13\" >0.58</td>\n",
       "                        <td id=\"T_cbdcc_row15_col14\" class=\"data row15 col14\" >0.75</td>\n",
       "                        <td id=\"T_cbdcc_row15_col15\" class=\"data row15 col15\" >1.00</td>\n",
       "                        <td id=\"T_cbdcc_row15_col16\" class=\"data row15 col16\" >0.60</td>\n",
       "                        <td id=\"T_cbdcc_row15_col17\" class=\"data row15 col17\" >0.73</td>\n",
       "            </tr>\n",
       "            <tr>\n",
       "                        <th id=\"T_cbdcc_level0_row16\" class=\"row_heading level0 row16\" >Swim</th>\n",
       "                        <td id=\"T_cbdcc_row16_col0\" class=\"data row16 col0\" >0.75</td>\n",
       "                        <td id=\"T_cbdcc_row16_col1\" class=\"data row16 col1\" >0.55</td>\n",
       "                        <td id=\"T_cbdcc_row16_col2\" class=\"data row16 col2\" >0.67</td>\n",
       "                        <td id=\"T_cbdcc_row16_col3\" class=\"data row16 col3\" >0.74</td>\n",
       "                        <td id=\"T_cbdcc_row16_col4\" class=\"data row16 col4\" >0.65</td>\n",
       "                        <td id=\"T_cbdcc_row16_col5\" class=\"data row16 col5\" >0.61</td>\n",
       "                        <td id=\"T_cbdcc_row16_col6\" class=\"data row16 col6\" >0.74</td>\n",
       "                        <td id=\"T_cbdcc_row16_col7\" class=\"data row16 col7\" >0.70</td>\n",
       "                        <td id=\"T_cbdcc_row16_col8\" class=\"data row16 col8\" >0.57</td>\n",
       "                        <td id=\"T_cbdcc_row16_col9\" class=\"data row16 col9\" >0.74</td>\n",
       "                        <td id=\"T_cbdcc_row16_col10\" class=\"data row16 col10\" >0.64</td>\n",
       "                        <td id=\"T_cbdcc_row16_col11\" class=\"data row16 col11\" >0.69</td>\n",
       "                        <td id=\"T_cbdcc_row16_col12\" class=\"data row16 col12\" >0.65</td>\n",
       "                        <td id=\"T_cbdcc_row16_col13\" class=\"data row16 col13\" >0.56</td>\n",
       "                        <td id=\"T_cbdcc_row16_col14\" class=\"data row16 col14\" >0.70</td>\n",
       "                        <td id=\"T_cbdcc_row16_col15\" class=\"data row16 col15\" >0.60</td>\n",
       "                        <td id=\"T_cbdcc_row16_col16\" class=\"data row16 col16\" >1.00</td>\n",
       "                        <td id=\"T_cbdcc_row16_col17\" class=\"data row16 col17\" >0.69</td>\n",
       "            </tr>\n",
       "            <tr>\n",
       "                        <th id=\"T_cbdcc_level0_row17\" class=\"row_heading level0 row17\" >Trend</th>\n",
       "                        <td id=\"T_cbdcc_row17_col0\" class=\"data row17 col0\" >0.78</td>\n",
       "                        <td id=\"T_cbdcc_row17_col1\" class=\"data row17 col1\" >0.87</td>\n",
       "                        <td id=\"T_cbdcc_row17_col2\" class=\"data row17 col2\" >0.77</td>\n",
       "                        <td id=\"T_cbdcc_row17_col3\" class=\"data row17 col3\" >0.72</td>\n",
       "                        <td id=\"T_cbdcc_row17_col4\" class=\"data row17 col4\" >0.78</td>\n",
       "                        <td id=\"T_cbdcc_row17_col5\" class=\"data row17 col5\" >0.68</td>\n",
       "                        <td id=\"T_cbdcc_row17_col6\" class=\"data row17 col6\" >0.78</td>\n",
       "                        <td id=\"T_cbdcc_row17_col7\" class=\"data row17 col7\" >0.74</td>\n",
       "                        <td id=\"T_cbdcc_row17_col8\" class=\"data row17 col8\" >0.63</td>\n",
       "                        <td id=\"T_cbdcc_row17_col9\" class=\"data row17 col9\" >0.88</td>\n",
       "                        <td id=\"T_cbdcc_row17_col10\" class=\"data row17 col10\" >0.75</td>\n",
       "                        <td id=\"T_cbdcc_row17_col11\" class=\"data row17 col11\" >0.75</td>\n",
       "                        <td id=\"T_cbdcc_row17_col12\" class=\"data row17 col12\" >0.68</td>\n",
       "                        <td id=\"T_cbdcc_row17_col13\" class=\"data row17 col13\" >0.69</td>\n",
       "                        <td id=\"T_cbdcc_row17_col14\" class=\"data row17 col14\" >0.79</td>\n",
       "                        <td id=\"T_cbdcc_row17_col15\" class=\"data row17 col15\" >0.73</td>\n",
       "                        <td id=\"T_cbdcc_row17_col16\" class=\"data row17 col16\" >0.69</td>\n",
       "                        <td id=\"T_cbdcc_row17_col17\" class=\"data row17 col17\" >1.00</td>\n",
       "            </tr>\n",
       "    </tbody></table>"
      ],
      "text/plain": [
       "<pandas.io.formats.style.Styler at 0x7fd708417490>"
      ]
     },
     "execution_count": 19,
     "metadata": {},
     "output_type": "execute_result"
    }
   ],
   "source": [
    "# List of unique product classes\n",
    "# Remove products with less than 10 reviews\n",
    "class_reviews = df.groupby('Class Name').agg({'clean_review_text': 'nunique'})\n",
    "classes = class_reviews[class_reviews.clean_review_text >= 10].index\n",
    "\n",
    "# Use CountVectorizer to create a document term matrix (DTM) for each product's reviews\n",
    "vectorizer = CountVectorizer()\n",
    "DTM_clothes = pd.DataFrame()\n",
    "\n",
    "# Create dictionary to store reviews for each product class\n",
    "clothes_dict = dict()\n",
    "for i,j in enumerate(classes):\n",
    "    text = df[df['Class Name'] == j]['clean_review_text'] # filter dataframe for that product's reviews\n",
    "    texts = str() # Create a string variable to store reviews\n",
    "    for s,t in enumerate(text):\n",
    "        if s == 0: # Necessary bc w/o enumerate (texts = texts + ' ' + t), it adds a spaces before the first review\n",
    "            texts = t\n",
    "        else:\n",
    "            texts = texts + ' ' + t # put all of the reviews for each product together in a string\n",
    "    bacon = list()\n",
    "    bacon.append(texts) # put the string in a list\n",
    "    clothes_dict[i] = bacon # Create a key in the dictionary to store the product reviews list\n",
    "    DTM = (pd.DataFrame.sparse.from_spmatrix(vectorizer.fit_transform(bacon), columns=vectorizer.get_feature_names()) # Build document term matrix\n",
    "             .transpose() # tranpose to move the terms to the index, it will make it easier when joining the DTMs\n",
    "             .rename(columns={0: j})) # Name the column with the product class\n",
    "    if i == 0:\n",
    "        DTM_clothes = DTM\n",
    "    else:\n",
    "        DTM_clothes = DTM_clothes.join(DTM, how='outer') # put each product's DTM in a dataframe\n",
    "\n",
    "DTM_clothes.fillna(0, inplace=True) # fill with 0 bc it was an outer join\n",
    "DTM_clothes = DTM_clothes.transpose()\n",
    "\n",
    "# Measure cosine similarity between the product reviews\n",
    "cosine = pd.DataFrame(cosine_similarity(DTM_clothes), columns=DTM_clothes.index, index=DTM_clothes.index)\n",
    "rounded = dict()\n",
    "for i in cosine.columns:\n",
    "    rounded[i] = \"{:.2f}\"\n",
    "\n",
    "cosine.style.background_gradient(axis=1, cmap = 'YlGn').format(rounded)"
   ]
  },
  {
   "cell_type": "code",
   "execution_count": 20,
   "metadata": {
    "ExecuteTime": {
     "end_time": "2021-10-08T20:39:15.855205Z",
     "start_time": "2021-10-08T20:39:15.840101Z"
    }
   },
   "outputs": [
    {
     "data": {
      "text/html": [
       "<div>\n",
       "<style scoped>\n",
       "    .dataframe tbody tr th:only-of-type {\n",
       "        vertical-align: middle;\n",
       "    }\n",
       "\n",
       "    .dataframe tbody tr th {\n",
       "        vertical-align: top;\n",
       "    }\n",
       "\n",
       "    .dataframe thead th {\n",
       "        text-align: right;\n",
       "    }\n",
       "</style>\n",
       "<table border=\"1\" class=\"dataframe\">\n",
       "  <thead>\n",
       "    <tr style=\"text-align: right;\">\n",
       "      <th></th>\n",
       "      <th>Most_Similar</th>\n",
       "      <th>Most_Dissimilar</th>\n",
       "    </tr>\n",
       "  </thead>\n",
       "  <tbody>\n",
       "    <tr>\n",
       "      <th>Blouses</th>\n",
       "      <td>Knits</td>\n",
       "      <td>Dresses</td>\n",
       "    </tr>\n",
       "    <tr>\n",
       "      <th>Dresses</th>\n",
       "      <td>Trend</td>\n",
       "      <td>Skirts</td>\n",
       "    </tr>\n",
       "    <tr>\n",
       "      <th>Fine gauge</th>\n",
       "      <td>Sweaters</td>\n",
       "      <td>Dresses</td>\n",
       "    </tr>\n",
       "    <tr>\n",
       "      <th>Intimates</th>\n",
       "      <td>Lounge</td>\n",
       "      <td>Skirts</td>\n",
       "    </tr>\n",
       "    <tr>\n",
       "      <th>Jackets</th>\n",
       "      <td>Outerwear</td>\n",
       "      <td>Skirts</td>\n",
       "    </tr>\n",
       "    <tr>\n",
       "      <th>Jeans</th>\n",
       "      <td>Pants</td>\n",
       "      <td>Dresses</td>\n",
       "    </tr>\n",
       "    <tr>\n",
       "      <th>Knits</th>\n",
       "      <td>Blouses</td>\n",
       "      <td>Dresses</td>\n",
       "    </tr>\n",
       "    <tr>\n",
       "      <th>Layering</th>\n",
       "      <td>Knits</td>\n",
       "      <td>Skirts</td>\n",
       "    </tr>\n",
       "    <tr>\n",
       "      <th>Legwear</th>\n",
       "      <td>Lounge</td>\n",
       "      <td>Dresses</td>\n",
       "    </tr>\n",
       "    <tr>\n",
       "      <th>Lounge</th>\n",
       "      <td>Sleep</td>\n",
       "      <td>Skirts</td>\n",
       "    </tr>\n",
       "    <tr>\n",
       "      <th>Outerwear</th>\n",
       "      <td>Jackets</td>\n",
       "      <td>Skirts</td>\n",
       "    </tr>\n",
       "    <tr>\n",
       "      <th>Pants</th>\n",
       "      <td>Lounge</td>\n",
       "      <td>Dresses</td>\n",
       "    </tr>\n",
       "    <tr>\n",
       "      <th>Shorts</th>\n",
       "      <td>Lounge</td>\n",
       "      <td>Dresses</td>\n",
       "    </tr>\n",
       "    <tr>\n",
       "      <th>Skirts</th>\n",
       "      <td>Trend</td>\n",
       "      <td>Dresses</td>\n",
       "    </tr>\n",
       "    <tr>\n",
       "      <th>Sleep</th>\n",
       "      <td>Lounge</td>\n",
       "      <td>Skirts</td>\n",
       "    </tr>\n",
       "    <tr>\n",
       "      <th>Sweaters</th>\n",
       "      <td>Fine gauge</td>\n",
       "      <td>Dresses</td>\n",
       "    </tr>\n",
       "    <tr>\n",
       "      <th>Swim</th>\n",
       "      <td>Blouses</td>\n",
       "      <td>Dresses</td>\n",
       "    </tr>\n",
       "    <tr>\n",
       "      <th>Trend</th>\n",
       "      <td>Lounge</td>\n",
       "      <td>Legwear</td>\n",
       "    </tr>\n",
       "  </tbody>\n",
       "</table>\n",
       "</div>"
      ],
      "text/plain": [
       "           Most_Similar Most_Dissimilar\n",
       "Blouses           Knits         Dresses\n",
       "Dresses           Trend          Skirts\n",
       "Fine gauge     Sweaters         Dresses\n",
       "Intimates        Lounge          Skirts\n",
       "Jackets       Outerwear          Skirts\n",
       "Jeans             Pants         Dresses\n",
       "Knits           Blouses         Dresses\n",
       "Layering          Knits          Skirts\n",
       "Legwear          Lounge         Dresses\n",
       "Lounge            Sleep          Skirts\n",
       "Outerwear       Jackets          Skirts\n",
       "Pants            Lounge         Dresses\n",
       "Shorts           Lounge         Dresses\n",
       "Skirts            Trend         Dresses\n",
       "Sleep            Lounge          Skirts\n",
       "Sweaters     Fine gauge         Dresses\n",
       "Swim            Blouses         Dresses\n",
       "Trend            Lounge         Legwear"
      ]
     },
     "execution_count": 20,
     "metadata": {},
     "output_type": "execute_result"
    }
   ],
   "source": [
    "# Find the most similar and dissimilar product reviews for each product class\n",
    "sim = []\n",
    "dis = []\n",
    "for i in cosine.columns:\n",
    "    spam = cosine.sort_values(i, ascending=False)\n",
    "    eggs = spam.index[1] # the first value (index 0) will be itself so take the second highest value\n",
    "    bacon = spam.index[-1]\n",
    "    sim.append(eggs)\n",
    "    dis.append(bacon)\n",
    "\n",
    "sim_dis_reviews = pd.DataFrame({'Most_Similar': sim, 'Most_Dissimilar': dis}\n",
    "                               , index = cosine.columns)\n",
    "\n",
    "sim_dis_reviews"
   ]
  },
  {
   "cell_type": "markdown",
   "metadata": {},
   "source": [
    "## Sentiment analysis\n",
    "Use the nltk library to give each review a sentiment score from -1 (negative) to 1 (positive). Plot the distribution of the sentiment scores."
   ]
  },
  {
   "cell_type": "code",
   "execution_count": 21,
   "metadata": {
    "ExecuteTime": {
     "end_time": "2021-10-08T20:39:24.446198Z",
     "start_time": "2021-10-08T20:39:15.856913Z"
    }
   },
   "outputs": [
    {
     "data": {
      "text/plain": [
       "Text(0.5, 1.0, 'Sentiment of Review by Recommendation')"
      ]
     },
     "execution_count": 21,
     "metadata": {},
     "output_type": "execute_result"
    },
    {
     "data": {
      "image/png": "[encoded data removed]",
      "text/plain": [
       "<Figure size 432x288 with 1 Axes>"
      ]
     },
     "metadata": {
      "needs_background": "light"
     },
     "output_type": "display_data"
    }
   ],
   "source": [
    "compound_sentiment = []\n",
    "sentences = []\n",
    "sid = SentimentIntensityAnalyzer()\n",
    "\n",
    "for sentence in df['clean_review_text']:\n",
    "    ss = sid.polarity_scores(sentence)\n",
    "    compound_sentiment.append(ss['compound'])\n",
    "    sentences.append(sentence)\n",
    "\n",
    "sentiment_vader = pd.DataFrame({'Sentence': sentences,\n",
    "                               'Sentiment': compound_sentiment})\n",
    "\n",
    "df = pd.concat([df, sentiment_vader.Sentiment], axis=1)\n",
    "\n",
    "sns.histplot(x='Sentiment', hue='Recommended IND', data=df)\n",
    "plt.title('Sentiment of Review by Recommendation', fontsize=12)"
   ]
  },
  {
   "cell_type": "markdown",
   "metadata": {},
   "source": [
    "## Model sentiment (most positive and negative words)\n",
    "Code the sentiment scores to be either positive or negative, and fit a logisitic regression model to predict the coded sentiment using the text in the review. Convert the logit coefficients to probability, and find which terms have the highest probability of the review being positive or negative."
   ]
  },
  {
   "cell_type": "code",
   "execution_count": 22,
   "metadata": {
    "ExecuteTime": {
     "end_time": "2021-10-08T20:39:25.708601Z",
     "start_time": "2021-10-08T20:39:24.447960Z"
    }
   },
   "outputs": [
    {
     "name": "stdout",
     "output_type": "stream",
     "text": [
      "Accuracy 0.8804495912806539\n",
      "====================================================================================================\n",
      "Most positive terms:\n",
      "['love', 'great', 'perfect', 'fit', 'beautiful', 'super', 'comfortable', 'perfectly', 'gorgeous', 'loved', 'lovely', 'best', 'compliment', 'happy', 'nice', 'better', 'like', 'fun', 'pretty', 'kind']\n",
      "====================================================================================================\n",
      "Most negative terms:\n",
      "['wide', 'thin', 'back', 'felt', 'sized', 'thing', 'looked', 'item', 'returned', 'returning', 'without', 'low', 'return', 'loose', 'worn', 'nan', 'cut', 'unfortunately', 'problem', 'disappointed']\n"
     ]
    }
   ],
   "source": [
    "def code_sentiment(x):\n",
    "    if x > 0.75:\n",
    "        return 1\n",
    "    else:\n",
    "        return 0\n",
    "\n",
    "text = df.clean_review_text\n",
    "vectorizer = TfidfVectorizer(max_features = 300)\n",
    "X = pd.DataFrame.sparse.from_spmatrix(vectorizer.fit_transform(text), index=text.index, columns=vectorizer.get_feature_names())\n",
    "\n",
    "y = df.Sentiment.apply(code_sentiment)\n",
    "\n",
    "X_train, X_test, y_train, y_test = train_test_split(X, y, random_state=1)\n",
    "\n",
    "clf = LogisticRegression(random_state=1, solver='liblinear').fit(X_train, y_train)\n",
    "y_pred = clf.predict(X_test)\n",
    "print('Accuracy', accuracy_score(y_test, y_pred))\n",
    "print('='*100)\n",
    "\n",
    "params = pd.DataFrame({'Feature': X.columns\n",
    "                     , 'Logit': clf.coef_[0]})\n",
    "\n",
    "def logit_to_prob(x):\n",
    "    return math.exp(x) / (1 + math.exp(x))\n",
    "\n",
    "params['Probability'] = params['Logit'].apply(logit_to_prob)\n",
    "\n",
    "params.sort_values('Probability', ascending=False, inplace=True)\n",
    "pos = list(params.head(20).iloc[:,0])\n",
    "neg = list(params.tail(20).iloc[:,0])\n",
    "\n",
    "print('Most positive terms:')\n",
    "print(pos)\n",
    "print('='*100)\n",
    "print('Most negative terms:')\n",
    "print(neg)"
   ]
  },
  {
   "cell_type": "markdown",
   "metadata": {},
   "source": [
    "## Most frequent words that follow and preceed the words that predict sentiment\n",
    "Use the most positive and negative terms from the sentiment classification model to find the most frequent terms that follow and proceed."
   ]
  },
  {
   "cell_type": "code",
   "execution_count": 23,
   "metadata": {
    "ExecuteTime": {
     "end_time": "2021-10-08T20:39:38.705541Z",
     "start_time": "2021-10-08T20:39:25.710467Z"
    }
   },
   "outputs": [
    {
     "data": {
      "image/png": "[encoded data removed]",
      "text/plain": [
       "<Figure size 720x576 with 2 Axes>"
      ]
     },
     "metadata": {
      "needs_background": "light"
     },
     "output_type": "display_data"
    }
   ],
   "source": [
    "X = df.clean_review_text\n",
    "vectorizer = CountVectorizer(max_features = 1000, ngram_range = (2,5))\n",
    "DTM = vectorizer.fit_transform(X)\n",
    "frequencies = sum(DTM).toarray()[0]\n",
    "ngrams = pd.DataFrame(frequencies, index = vectorizer.get_feature_names(), columns = ['Frequency'])\n",
    "ngrams.sort_values('Frequency', ascending = True, inplace=True)\n",
    "ngrams = ngrams.reset_index().rename(columns={'index':'Term'})\n",
    "\n",
    "# Filter ngrams to only those that include words that predict positive or negative sentiment\n",
    "terms = list(ngrams.Term)\n",
    "pos_terms = [s for s in terms if any(x in s for x in pos)]\n",
    "neg_terms = [s for s in terms if any(x in s for x in neg)]\n",
    "\n",
    "pos_ngrams = ngrams[ngrams.Term.isin(pos_terms)].head(25)\n",
    "neg_ngrams = ngrams[ngrams.Term.isin(neg_terms)].head(25)\n",
    "\n",
    "# Plot\n",
    "fig, (ax1, ax2) = plt.subplots(1, 2, figsize=(10,8))\n",
    "ax1.barh(pos_ngrams.Term, pos_ngrams.Frequency, color='green')\n",
    "# ax1.set_title('Positive Words:\\n25 Most Frequent Ngrams that Follow & Proceed')\n",
    "ax1.set_title('Positive Words')\n",
    "\n",
    "ax2.barh(neg_ngrams.Term, neg_ngrams.Frequency, color='red')\n",
    "# ax2.set_title('Negative Words:\\n25 Most Frequent Ngrams that Follow & Proceed')\n",
    "ax2.set_title('Negative Words')\n",
    "\n",
    "for ax in [ax1, ax2]:\n",
    "    ax.set(xlabel='Frequency', ylabel='Ngram')\n",
    "\n",
    "plt.suptitle('25 Most Frequent Ngrams that Follow & Proceed Positive Words and Negative Words', fontsize=16, verticalalignment='center', horizontalalignment='center')\n",
    "plt.tight_layout()\n",
    "plt.show()"
   ]
  },
  {
   "cell_type": "markdown",
   "metadata": {},
   "source": [
    "## Topic modeling\n",
    "Separate reviews that recommend and don't recommend the product, and use Latent Dirichlet allocation (LDA) to identify topics in the reviews."
   ]
  },
  {
   "cell_type": "code",
   "execution_count": 24,
   "metadata": {
    "ExecuteTime": {
     "end_time": "2021-10-08T20:43:24.789317Z",
     "start_time": "2021-10-08T20:39:38.707182Z"
    },
    "scrolled": true
   },
   "outputs": [
    {
     "data": {
      "text/html": [
       "<div>\n",
       "<style scoped>\n",
       "    .dataframe tbody tr th:only-of-type {\n",
       "        vertical-align: middle;\n",
       "    }\n",
       "\n",
       "    .dataframe tbody tr th {\n",
       "        vertical-align: top;\n",
       "    }\n",
       "\n",
       "    .dataframe thead th {\n",
       "        text-align: right;\n",
       "    }\n",
       "</style>\n",
       "<table border=\"1\" class=\"dataframe\">\n",
       "  <thead>\n",
       "    <tr style=\"text-align: right;\">\n",
       "      <th></th>\n",
       "      <th>Topic_0</th>\n",
       "      <th>Topic_1</th>\n",
       "      <th>Topic_2</th>\n",
       "      <th>Topic_3</th>\n",
       "      <th>Topic_4</th>\n",
       "    </tr>\n",
       "  </thead>\n",
       "  <tbody>\n",
       "    <tr>\n",
       "      <th>0</th>\n",
       "      <td>love</td>\n",
       "      <td>dress</td>\n",
       "      <td>size</td>\n",
       "      <td>dress</td>\n",
       "      <td>color</td>\n",
       "    </tr>\n",
       "    <tr>\n",
       "      <th>1</th>\n",
       "      <td>great</td>\n",
       "      <td>fabric</td>\n",
       "      <td>small</td>\n",
       "      <td>love</td>\n",
       "      <td>online</td>\n",
       "    </tr>\n",
       "    <tr>\n",
       "      <th>2</th>\n",
       "      <td>color</td>\n",
       "      <td>like</td>\n",
       "      <td>fit</td>\n",
       "      <td>fit</td>\n",
       "      <td>store</td>\n",
       "    </tr>\n",
       "    <tr>\n",
       "      <th>3</th>\n",
       "      <td>top</td>\n",
       "      <td>look</td>\n",
       "      <td>top</td>\n",
       "      <td>size</td>\n",
       "      <td>one</td>\n",
       "    </tr>\n",
       "    <tr>\n",
       "      <th>4</th>\n",
       "      <td>wear</td>\n",
       "      <td>skirt</td>\n",
       "      <td>large</td>\n",
       "      <td>wear</td>\n",
       "      <td>person</td>\n",
       "    </tr>\n",
       "    <tr>\n",
       "      <th>5</th>\n",
       "      <td>sweater</td>\n",
       "      <td>fit</td>\n",
       "      <td>run</td>\n",
       "      <td>pant</td>\n",
       "      <td>blue</td>\n",
       "    </tr>\n",
       "    <tr>\n",
       "      <th>6</th>\n",
       "      <td>soft</td>\n",
       "      <td>flattering</td>\n",
       "      <td>ordered</td>\n",
       "      <td>jean</td>\n",
       "      <td>much</td>\n",
       "    </tr>\n",
       "    <tr>\n",
       "      <th>7</th>\n",
       "      <td>look</td>\n",
       "      <td>waist</td>\n",
       "      <td>medium</td>\n",
       "      <td>perfect</td>\n",
       "      <td>saw</td>\n",
       "    </tr>\n",
       "    <tr>\n",
       "      <th>8</th>\n",
       "      <td>fit</td>\n",
       "      <td>love</td>\n",
       "      <td>would</td>\n",
       "      <td>great</td>\n",
       "      <td>look</td>\n",
       "    </tr>\n",
       "    <tr>\n",
       "      <th>9</th>\n",
       "      <td>perfect</td>\n",
       "      <td>bit</td>\n",
       "      <td>x</td>\n",
       "      <td>compliment</td>\n",
       "      <td>picture</td>\n",
       "    </tr>\n",
       "  </tbody>\n",
       "</table>\n",
       "</div>"
      ],
      "text/plain": [
       "   Topic_0     Topic_1  Topic_2     Topic_3  Topic_4\n",
       "0     love       dress     size       dress    color\n",
       "1    great      fabric    small        love   online\n",
       "2    color        like      fit         fit    store\n",
       "3      top        look      top        size      one\n",
       "4     wear       skirt    large        wear   person\n",
       "5  sweater         fit      run        pant     blue\n",
       "6     soft  flattering  ordered        jean     much\n",
       "7     look       waist   medium     perfect      saw\n",
       "8      fit        love    would       great     look\n",
       "9  perfect         bit        x  compliment  picture"
      ]
     },
     "execution_count": 24,
     "metadata": {},
     "output_type": "execute_result"
    }
   ],
   "source": [
    "# Topics in reviews that recommend the product\n",
    "pos = df[df['Recommended IND'] == 1]\n",
    "\n",
    "text_clean = []\n",
    "for text in pos['clean_review_text']:\n",
    "    text_clean.append(text.split())\n",
    "\n",
    "dictionary = corpora.Dictionary(text_clean)\n",
    "text_term_matrix = [dictionary.doc2bow(text) for text in text_clean]\n",
    "\n",
    "Lda = gensim.models.ldamodel.LdaModel\n",
    "ldamodel = Lda(text_term_matrix, num_topics=5, id2word = dictionary, passes=30)\n",
    "\n",
    "topics = ldamodel.top_topics(text_term_matrix, topn=10)\n",
    "pos_topics_df = pd.DataFrame()\n",
    "for x in range(len(topics)):\n",
    "    pos_topics_df['Topic_' + str(x)] = dict(topics[x][0]).values()\n",
    "\n",
    "pos_topics_df"
   ]
  },
  {
   "cell_type": "code",
   "execution_count": 25,
   "metadata": {
    "ExecuteTime": {
     "end_time": "2021-10-08T20:44:15.574463Z",
     "start_time": "2021-10-08T20:43:24.791413Z"
    }
   },
   "outputs": [
    {
     "data": {
      "text/html": [
       "<div>\n",
       "<style scoped>\n",
       "    .dataframe tbody tr th:only-of-type {\n",
       "        vertical-align: middle;\n",
       "    }\n",
       "\n",
       "    .dataframe tbody tr th {\n",
       "        vertical-align: top;\n",
       "    }\n",
       "\n",
       "    .dataframe thead th {\n",
       "        text-align: right;\n",
       "    }\n",
       "</style>\n",
       "<table border=\"1\" class=\"dataframe\">\n",
       "  <thead>\n",
       "    <tr style=\"text-align: right;\">\n",
       "      <th></th>\n",
       "      <th>Topic_0</th>\n",
       "      <th>Topic_1</th>\n",
       "      <th>Topic_2</th>\n",
       "      <th>Topic_3</th>\n",
       "      <th>Topic_4</th>\n",
       "    </tr>\n",
       "  </thead>\n",
       "  <tbody>\n",
       "    <tr>\n",
       "      <th>0</th>\n",
       "      <td>top</td>\n",
       "      <td>like</td>\n",
       "      <td>dress</td>\n",
       "      <td>skirt</td>\n",
       "      <td>shirt</td>\n",
       "    </tr>\n",
       "    <tr>\n",
       "      <th>1</th>\n",
       "      <td>fit</td>\n",
       "      <td>dress</td>\n",
       "      <td>size</td>\n",
       "      <td>fabric</td>\n",
       "      <td>top</td>\n",
       "    </tr>\n",
       "    <tr>\n",
       "      <th>2</th>\n",
       "      <td>small</td>\n",
       "      <td>look</td>\n",
       "      <td>would</td>\n",
       "      <td>look</td>\n",
       "      <td>like</td>\n",
       "    </tr>\n",
       "    <tr>\n",
       "      <th>3</th>\n",
       "      <td>size</td>\n",
       "      <td>fabric</td>\n",
       "      <td>like</td>\n",
       "      <td>jean</td>\n",
       "      <td>would</td>\n",
       "    </tr>\n",
       "    <tr>\n",
       "      <th>4</th>\n",
       "      <td>look</td>\n",
       "      <td>love</td>\n",
       "      <td>color</td>\n",
       "      <td>design</td>\n",
       "      <td>white</td>\n",
       "    </tr>\n",
       "    <tr>\n",
       "      <th>5</th>\n",
       "      <td>dress</td>\n",
       "      <td>much</td>\n",
       "      <td>fabric</td>\n",
       "      <td>back</td>\n",
       "      <td>wear</td>\n",
       "    </tr>\n",
       "    <tr>\n",
       "      <th>6</th>\n",
       "      <td>would</td>\n",
       "      <td>color</td>\n",
       "      <td>back</td>\n",
       "      <td>material</td>\n",
       "      <td>color</td>\n",
       "    </tr>\n",
       "    <tr>\n",
       "      <th>7</th>\n",
       "      <td>ordered</td>\n",
       "      <td>would</td>\n",
       "      <td>fit</td>\n",
       "      <td>like</td>\n",
       "      <td>sweater</td>\n",
       "    </tr>\n",
       "    <tr>\n",
       "      <th>8</th>\n",
       "      <td>really</td>\n",
       "      <td>way</td>\n",
       "      <td>price</td>\n",
       "      <td>also</td>\n",
       "      <td>sheer</td>\n",
       "    </tr>\n",
       "    <tr>\n",
       "      <th>9</th>\n",
       "      <td>large</td>\n",
       "      <td>wanted</td>\n",
       "      <td>quality</td>\n",
       "      <td>color</td>\n",
       "      <td>ordered</td>\n",
       "    </tr>\n",
       "  </tbody>\n",
       "</table>\n",
       "</div>"
      ],
      "text/plain": [
       "   Topic_0 Topic_1  Topic_2   Topic_3  Topic_4\n",
       "0      top    like    dress     skirt    shirt\n",
       "1      fit   dress     size    fabric      top\n",
       "2    small    look    would      look     like\n",
       "3     size  fabric     like      jean    would\n",
       "4     look    love    color    design    white\n",
       "5    dress    much   fabric      back     wear\n",
       "6    would   color     back  material    color\n",
       "7  ordered   would      fit      like  sweater\n",
       "8   really     way    price      also    sheer\n",
       "9    large  wanted  quality     color  ordered"
      ]
     },
     "execution_count": 25,
     "metadata": {},
     "output_type": "execute_result"
    }
   ],
   "source": [
    "# Topics in reviews that do not recommend the product\n",
    "neg = df[df['Recommended IND'] == 0]\n",
    "\n",
    "text_clean = []\n",
    "for text in neg['clean_review_text']:\n",
    "    text_clean.append(text.split())\n",
    "\n",
    "\n",
    "dictionary = corpora.Dictionary(text_clean)\n",
    "text_term_matrix = [dictionary.doc2bow(text) for text in text_clean]\n",
    "\n",
    "Lda = gensim.models.ldamodel.LdaModel\n",
    "ldamodel = Lda(text_term_matrix, num_topics=5, id2word = dictionary, passes=30)\n",
    "\n",
    "topics = ldamodel.top_topics(text_term_matrix, topn=10)\n",
    "neg_topics_df = pd.DataFrame()\n",
    "for x in range(len(topics)):\n",
    "    neg_topics_df['Topic_' + str(x)] = dict(topics[x][0]).values()\n",
    "\n",
    "neg_topics_df"
   ]
  },
  {
   "cell_type": "markdown",
   "metadata": {},
   "source": [
    "# Classification model for product recommendation\n",
    "Fit a classification model for product recommendation, and try different features, paramters, models, etc. to see which combination produces the best classification score."
   ]
  },
  {
   "cell_type": "code",
   "execution_count": 26,
   "metadata": {
    "ExecuteTime": {
     "end_time": "2021-10-08T20:44:15.587700Z",
     "start_time": "2021-10-08T20:44:15.576461Z"
    }
   },
   "outputs": [],
   "source": [
    "def binary_classification(term_features = df.clean_review_text\n",
    "                         , other_features = None\n",
    "                         , target = df['Recommended IND']\n",
    "                         , word_embedding = TfidfVectorizer\n",
    "                         , ngram_range = (1, 1)\n",
    "                         , max_term_features = 300\n",
    "                         , model = LogisticRegression\n",
    "                         , balance_classes = True\n",
    "                         , score = f1_score):\n",
    "    \"\"\"Returns the score of a binary classification model.\"\"\"\n",
    "    if balance_classes:\n",
    "        together = pd.concat([target, term_features, other_features], axis=1)\n",
    "        \n",
    "        class_zero = together[together[target.name] == 0]\n",
    "        len_zero = len(class_zero)\n",
    "        \n",
    "        class_one = together[together[target.name] == 1]\n",
    "        len_one = len(class_one)\n",
    "        \n",
    "        marjority_class = max(len_zero, len_one)\n",
    "        \n",
    "        if marjority_class == len_zero:\n",
    "            down_sample = class_zero.sample(len_one)\n",
    "            X_y = pd.concat([down_sample, class_one])\n",
    "        else:\n",
    "            down_sample = class_one.sample(len_zero)\n",
    "            X_y = pd.concat([down_sample, class_zero])\n",
    "            \n",
    "    else:\n",
    "        X_y = pd.concat([target, term_features, other_features], axis=1)\n",
    "    \n",
    "    terms = X_y[term_features.name]\n",
    "    vectorizer = word_embedding(ngram_range = ngram_range, max_features = max_term_features)\n",
    "    X_terms = pd.DataFrame.sparse.from_spmatrix(vectorizer.fit_transform(terms), index=terms.index, columns=vectorizer.get_feature_names())\n",
    "    \n",
    "    if other_features is None:\n",
    "        X = X_terms\n",
    "    else:\n",
    "        X = pd.concat([X_terms, X_y[other_features.name]], axis=1)\n",
    "    \n",
    "    y = X_y[target.name]\n",
    "    \n",
    "    X_train, X_test, y_train, y_test = train_test_split(X, y, random_state=1)\n",
    "    \n",
    "    try:\n",
    "        clf = model(random_state=1).fit(X_train, y_train)\n",
    "    except:\n",
    "        try:\n",
    "            clf = model().fit(DenseTransformer(X_train), y_train)\n",
    "        except:\n",
    "            try:\n",
    "                clf = model().fit(X_train, y_train)\n",
    "            except:\n",
    "                pass\n",
    "    \n",
    "    y_pred = clf.predict(X_test)\n",
    "    \n",
    "    model_score = score(y_test, y_pred)\n",
    "    print(model_score)"
   ]
  },
  {
   "cell_type": "code",
   "execution_count": 27,
   "metadata": {
    "ExecuteTime": {
     "end_time": "2021-10-08T20:44:16.169802Z",
     "start_time": "2021-10-08T20:44:15.589820Z"
    }
   },
   "outputs": [
    {
     "name": "stdout",
     "output_type": "stream",
     "text": [
      "0.8090646094503375\n"
     ]
    }
   ],
   "source": [
    "# Default parameters -- \n",
    "# Text predictors: review text\n",
    "# Other predictors: none\n",
    "# Word embedding: tf-idf\n",
    "# Ngram range: (1, 1)\n",
    "# Max term features: 300\n",
    "# Classification model: logistic regression\n",
    "# Balance classes: true\n",
    "# Score: F1 score\n",
    "binary_classification()"
   ]
  },
  {
   "cell_type": "code",
   "execution_count": 28,
   "metadata": {
    "ExecuteTime": {
     "end_time": "2021-10-08T20:44:16.889524Z",
     "start_time": "2021-10-08T20:44:16.171769Z"
    }
   },
   "outputs": [
    {
     "name": "stdout",
     "output_type": "stream",
     "text": [
      "0.8047732696897375\n"
     ]
    }
   ],
   "source": [
    "# Add age as a predictor\n",
    "binary_classification(other_features = df['Age'])"
   ]
  },
  {
   "cell_type": "code",
   "execution_count": 29,
   "metadata": {
    "ExecuteTime": {
     "end_time": "2021-10-08T20:44:17.507333Z",
     "start_time": "2021-10-08T20:44:16.891466Z"
    }
   },
   "outputs": [
    {
     "name": "stdout",
     "output_type": "stream",
     "text": [
      "0.8218009478672985\n"
     ]
    }
   ],
   "source": [
    "# Add sentiment as a predictor\n",
    "binary_classification(other_features = df['Sentiment'])"
   ]
  },
  {
   "cell_type": "code",
   "execution_count": 30,
   "metadata": {
    "ExecuteTime": {
     "end_time": "2021-10-08T20:44:18.618613Z",
     "start_time": "2021-10-08T20:44:17.509272Z"
    }
   },
   "outputs": [
    {
     "name": "stdout",
     "output_type": "stream",
     "text": [
      "0.8108623153882802\n"
     ]
    }
   ],
   "source": [
    "# Longer length of ngrams (1,2)\n",
    "binary_classification(ngram_range=(1,2))"
   ]
  },
  {
   "cell_type": "code",
   "execution_count": 31,
   "metadata": {
    "ExecuteTime": {
     "end_time": "2021-10-08T20:44:20.568463Z",
     "start_time": "2021-10-08T20:44:18.620406Z"
    }
   },
   "outputs": [
    {
     "name": "stdout",
     "output_type": "stream",
     "text": [
      "0.818957345971564\n"
     ]
    }
   ],
   "source": [
    "# Longer length of ngrams (1,3)\n",
    "binary_classification(ngram_range=(1,3))"
   ]
  },
  {
   "cell_type": "code",
   "execution_count": 32,
   "metadata": {
    "ExecuteTime": {
     "end_time": "2021-10-08T20:44:21.346542Z",
     "start_time": "2021-10-08T20:44:20.570204Z"
    }
   },
   "outputs": [
    {
     "name": "stdout",
     "output_type": "stream",
     "text": [
      "0.8416075650118202\n"
     ]
    }
   ],
   "source": [
    "# Wider term matrix (max_term_features = 500)\n",
    "binary_classification(max_term_features = 500)"
   ]
  },
  {
   "cell_type": "code",
   "execution_count": 33,
   "metadata": {
    "ExecuteTime": {
     "end_time": "2021-10-08T20:44:22.523615Z",
     "start_time": "2021-10-08T20:44:21.348356Z"
    }
   },
   "outputs": [
    {
     "name": "stdout",
     "output_type": "stream",
     "text": [
      "0.8512673362027737\n"
     ]
    }
   ],
   "source": [
    "# Wider term matrix (max_term_features = 1000)\n",
    "binary_classification(max_term_features = 1000)"
   ]
  },
  {
   "cell_type": "code",
   "execution_count": 34,
   "metadata": {
    "ExecuteTime": {
     "end_time": "2021-10-08T20:44:23.121624Z",
     "start_time": "2021-10-08T20:44:22.525344Z"
    }
   },
   "outputs": [
    {
     "name": "stdout",
     "output_type": "stream",
     "text": [
      "0.8059132093466856\n"
     ]
    }
   ],
   "source": [
    "# Count vectorizer\n",
    "binary_classification(word_embedding=CountVectorizer)"
   ]
  },
  {
   "cell_type": "code",
   "execution_count": 35,
   "metadata": {
    "ExecuteTime": {
     "end_time": "2021-10-08T20:44:24.499248Z",
     "start_time": "2021-10-08T20:44:23.123570Z"
    }
   },
   "outputs": [
    {
     "name": "stdout",
     "output_type": "stream",
     "text": [
      "0.923076923076923\n"
     ]
    }
   ],
   "source": [
    "# Allow for class imbalance\n",
    "binary_classification(balance_classes=False)"
   ]
  },
  {
   "cell_type": "code",
   "execution_count": 36,
   "metadata": {
    "ExecuteTime": {
     "end_time": "2021-10-08T20:44:27.572354Z",
     "start_time": "2021-10-08T20:44:24.501029Z"
    }
   },
   "outputs": [
    {
     "name": "stdout",
     "output_type": "stream",
     "text": [
      "0.9307050186060545\n"
     ]
    }
   ],
   "source": [
    "# Allow for class imbalance and wider term matrix (max_term_features = 1000)\n",
    "binary_classification(balance_classes=False, max_term_features = 1000)"
   ]
  },
  {
   "cell_type": "code",
   "execution_count": 37,
   "metadata": {
    "ExecuteTime": {
     "end_time": "2021-10-08T20:44:28.731592Z",
     "start_time": "2021-10-08T20:44:27.576987Z"
    }
   },
   "outputs": [
    {
     "name": "stdout",
     "output_type": "stream",
     "text": [
      "0.6900141978230004\n"
     ]
    }
   ],
   "source": [
    "# Decision tree classifier\n",
    "binary_classification(model=DecisionTreeClassifier)"
   ]
  },
  {
   "cell_type": "code",
   "execution_count": 38,
   "metadata": {
    "ExecuteTime": {
     "end_time": "2021-10-08T20:46:03.377832Z",
     "start_time": "2021-10-08T20:44:28.733290Z"
    }
   },
   "outputs": [
    {
     "name": "stdout",
     "output_type": "stream",
     "text": [
      "0.8116222760290557\n"
     ]
    }
   ],
   "source": [
    "# Complement naive bayes\n",
    "binary_classification(model=ComplementNB)"
   ]
  },
  {
   "cell_type": "markdown",
   "metadata": {},
   "source": [
    "#### The biggest improvements in the classification score come from allowing for class imbalance and having a wider term matrix"
   ]
  },
  {
   "cell_type": "markdown",
   "metadata": {},
   "source": [
    "## Final model\n",
    "Fit a classification model with the paramters that produced the best score, and see which features have the most predictive power."
   ]
  },
  {
   "cell_type": "code",
   "execution_count": 39,
   "metadata": {
    "ExecuteTime": {
     "end_time": "2021-10-08T20:46:06.104393Z",
     "start_time": "2021-10-08T20:46:03.379811Z"
    }
   },
   "outputs": [
    {
     "name": "stdout",
     "output_type": "stream",
     "text": [
      "              precision    recall  f1-score   support\n",
      "\n",
      "           0       0.76      0.52      0.62      1065\n",
      "           1       0.90      0.96      0.93      4807\n",
      "\n",
      "    accuracy                           0.88      5872\n",
      "   macro avg       0.83      0.74      0.77      5872\n",
      "weighted avg       0.87      0.88      0.87      5872\n",
      "\n"
     ]
    }
   ],
   "source": [
    "# Create word embedding (tf-idf)\n",
    "terms = df['clean_review_text']\n",
    "vectorizer = TfidfVectorizer(ngram_range = (1, 1), max_features = 1000)\n",
    "X = pd.DataFrame.sparse.from_spmatrix(vectorizer.fit_transform(terms), index=terms.index, columns=vectorizer.get_feature_names())\n",
    "\n",
    "# Separate target variable\n",
    "y = df['Recommended IND']\n",
    "\n",
    "# Separate train and validation sets\n",
    "X_train, X_test, y_train, y_test = train_test_split(X, y, random_state=1)\n",
    "\n",
    "# Fit model and make a prediction\n",
    "clf = LogisticRegression(random_state=1).fit(X_train, y_train)\n",
    "y_pred = clf.predict(X_test)\n",
    "\n",
    "# Score the model\n",
    "print(classification_report(y_test, y_pred))"
   ]
  },
  {
   "cell_type": "code",
   "execution_count": 40,
   "metadata": {
    "ExecuteTime": {
     "end_time": "2021-10-08T20:46:06.115577Z",
     "start_time": "2021-10-08T20:46:06.106176Z"
    }
   },
   "outputs": [
    {
     "name": "stdout",
     "output_type": "stream",
     "text": [
      "Terms that predict the product being recommended:\n",
      "['perfect', 'love', 'comfortable', 'great', 'compliment', 'little', 'unique', 'perfectly', 'dd', 'bit', 'soft', 'comfy', 'amazing', 'happy', 'nicely', 'glad', 'order', 'dressed', 'beautifully', 'fun']\n",
      "====================================================================================================\n",
      "Terms that predict the product NOT being recommended:\n",
      "['fabric', 'odd', 'unfortunately', 'would', 'idea', 'looked', 'seemed', 'bad', 'return', 'back', 'excited', 'huge', 'poor', 'awful', 'unflattering', 'returning', 'cheap', 'returned', 'wanted', 'disappointed']\n"
     ]
    }
   ],
   "source": [
    "# Store model coefficients in a dataframe\n",
    "rec_params = pd.DataFrame({'Feature': X.columns\n",
    "                     , 'Logit': clf.coef_[0]})\n",
    "\n",
    "# Convert coefficients from log odds (logit) to probability\n",
    "rec_params['Probability'] = rec_params['Logit'].apply(logit_to_prob)\n",
    "\n",
    "# Sort and separate terms with the highest and lowest probabilities\n",
    "rec_params.sort_values('Probability', ascending=False, inplace=True)\n",
    "pos_rec = list(rec_params.head(20).iloc[:,0])\n",
    "neg_rec = list(rec_params.tail(20).iloc[:,0])\n",
    "\n",
    "print('Terms that predict the product being recommended:')\n",
    "print(pos_rec)\n",
    "print('='*100)\n",
    "print('Terms that predict the product NOT being recommended:')\n",
    "print(neg_rec)"
   ]
  },
  {
   "cell_type": "code",
   "execution_count": 41,
   "metadata": {
    "ExecuteTime": {
     "end_time": "2021-10-08T20:46:06.120303Z",
     "start_time": "2021-10-08T20:46:06.117517Z"
    }
   },
   "outputs": [
    {
     "name": "stdout",
     "output_type": "stream",
     "text": [
      "Duration: 0:07:17.723753\n"
     ]
    }
   ],
   "source": [
    "end = datetime.now()\n",
    "print('Duration:', end - start)"
   ]
  },
  {
   "cell_type": "code",
   "execution_count": null,
   "metadata": {},
   "outputs": [],
   "source": []
  }
 ],
 "metadata": {
  "kernelspec": {
   "display_name": "Python 3",
   "language": "python",
   "name": "python3"
  },
  "language_info": {
   "codemirror_mode": {
    "name": "ipython",
    "version": 3
   },
   "file_extension": ".py",
   "mimetype": "text/x-python",
   "name": "python",
   "nbconvert_exporter": "python",
   "pygments_lexer": "ipython3",
   "version": "3.8.3"
  }
 },
 "nbformat": 4,
 "nbformat_minor": 4
}
